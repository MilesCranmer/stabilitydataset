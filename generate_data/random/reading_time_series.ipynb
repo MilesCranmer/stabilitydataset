{
 "cells": [
  {
   "cell_type": "code",
   "execution_count": 1,
   "metadata": {},
   "outputs": [],
   "source": [
    "import numpy as np\n",
    "import matplotlib.pyplot as plt\n",
    "import pandas as pd\n",
    "%matplotlib inline"
   ]
  },
  {
   "cell_type": "markdown",
   "metadata": {},
   "source": [
    "- There are 25000 N-body simulations of 3 planet systems. \n",
    "- Each was run up to 1.e9 orbits of the innermost planet. Time is in units of the innermost's (initial) orbital period\n",
    "- If planets collided, the time is recorded under instability_time. \n",
    "- Stable is a boolean for whether instability_time reached the max of 1e9 orbits without collisions\n",
    "- can use stable for classification, instability_time for regression problem\n",
    "- the only parameters are the masses of the planets for each run, encoded under m1, m2, m3"
   ]
  },
  {
   "cell_type": "code",
   "execution_count": 2,
   "metadata": {},
   "outputs": [],
   "source": [
    "tseriesfolder = '/mnt/ssd/workspace/stability/stabilitydataset/data/random/shortruntseries2019-03-01Norbits1e4Nout1729/'\n",
    "tseries = np.load(tseriesfolder+'timeseries.npy')"
   ]
  },
  {
   "cell_type": "code",
   "execution_count": 4,
   "metadata": {},
   "outputs": [
    {
     "data": {
      "text/html": [
       "<div>\n",
       "<style scoped>\n",
       "    .dataframe tbody tr th:only-of-type {\n",
       "        vertical-align: middle;\n",
       "    }\n",
       "\n",
       "    .dataframe tbody tr th {\n",
       "        vertical-align: top;\n",
       "    }\n",
       "\n",
       "    .dataframe thead th {\n",
       "        text-align: right;\n",
       "    }\n",
       "</style>\n",
       "<table border=\"1\" class=\"dataframe\">\n",
       "  <thead>\n",
       "    <tr style=\"text-align: right;\">\n",
       "      <th></th>\n",
       "      <th>runstring</th>\n",
       "      <th>instability_time</th>\n",
       "      <th>m1</th>\n",
       "      <th>m2</th>\n",
       "      <th>m3</th>\n",
       "      <th>Stable</th>\n",
       "    </tr>\n",
       "  </thead>\n",
       "  <tbody>\n",
       "    <tr>\n",
       "      <th>0</th>\n",
       "      <td>0000000.bin</td>\n",
       "      <td>1.235644e+07</td>\n",
       "      <td>3.414016e-05</td>\n",
       "      <td>1.878725e-05</td>\n",
       "      <td>1.826900e-06</td>\n",
       "      <td>False</td>\n",
       "    </tr>\n",
       "    <tr>\n",
       "      <th>1</th>\n",
       "      <td>0000001.bin</td>\n",
       "      <td>1.348749e+05</td>\n",
       "      <td>2.529838e-07</td>\n",
       "      <td>3.485790e-05</td>\n",
       "      <td>1.955797e-05</td>\n",
       "      <td>False</td>\n",
       "    </tr>\n",
       "    <tr>\n",
       "      <th>2</th>\n",
       "      <td>0000002.bin</td>\n",
       "      <td>1.276381e+04</td>\n",
       "      <td>7.380789e-05</td>\n",
       "      <td>6.974008e-05</td>\n",
       "      <td>1.477931e-07</td>\n",
       "      <td>False</td>\n",
       "    </tr>\n",
       "    <tr>\n",
       "      <th>3</th>\n",
       "      <td>0000003.bin</td>\n",
       "      <td>1.000000e+09</td>\n",
       "      <td>5.174804e-07</td>\n",
       "      <td>4.292276e-06</td>\n",
       "      <td>1.287851e-06</td>\n",
       "      <td>True</td>\n",
       "    </tr>\n",
       "    <tr>\n",
       "      <th>4</th>\n",
       "      <td>0000004.bin</td>\n",
       "      <td>8.791888e+01</td>\n",
       "      <td>5.106746e-07</td>\n",
       "      <td>2.039380e-07</td>\n",
       "      <td>1.542321e-06</td>\n",
       "      <td>False</td>\n",
       "    </tr>\n",
       "  </tbody>\n",
       "</table>\n",
       "</div>"
      ],
      "text/plain": [
       "     runstring  instability_time            m1            m2            m3  \\\n",
       "0  0000000.bin      1.235644e+07  3.414016e-05  1.878725e-05  1.826900e-06   \n",
       "1  0000001.bin      1.348749e+05  2.529838e-07  3.485790e-05  1.955797e-05   \n",
       "2  0000002.bin      1.276381e+04  7.380789e-05  6.974008e-05  1.477931e-07   \n",
       "3  0000003.bin      1.000000e+09  5.174804e-07  4.292276e-06  1.287851e-06   \n",
       "4  0000004.bin      8.791888e+01  5.106746e-07  2.039380e-07  1.542321e-06   \n",
       "\n",
       "   Stable  \n",
       "0   False  \n",
       "1   False  \n",
       "2   False  \n",
       "3    True  \n",
       "4   False  "
      ]
     },
     "execution_count": 4,
     "metadata": {},
     "output_type": "execute_result"
    }
   ],
   "source": [
    "df = pd.read_csv(tseriesfolder+'metadata.csv', index_col=0)\n",
    "df.head()"
   ]
  },
  {
   "cell_type": "markdown",
   "metadata": {},
   "source": [
    "- This file (~6 GB) has time series for each of the 25000 runs, using the indices above. \n",
    "- Each system has 1729 recorded times (chosen so as to be 'relatively prime' and minimize sampling issues)\n",
    "- Each time has 18 values\n",
    "- index 0-5 are first planet's semimajor axis, eccentricity, inclination, longitude of ascending node, longitude of pericenter, and mean anomaly\n",
    "- index 6-11 are for the second planet, same things\n",
    "- index 12-17 are for the third planet"
   ]
  },
  {
   "cell_type": "code",
   "execution_count": 5,
   "metadata": {},
   "outputs": [
    {
     "data": {
      "text/plain": [
       "(25000, 1729, 18)"
      ]
     },
     "execution_count": 5,
     "metadata": {},
     "output_type": "execute_result"
    }
   ],
   "source": [
    "tseries.shape"
   ]
  },
  {
   "cell_type": "markdown",
   "metadata": {},
   "source": [
    "All simulations share the exact same sampling of evenly spaced times, here:"
   ]
  },
  {
   "cell_type": "code",
   "execution_count": 6,
   "metadata": {},
   "outputs": [
    {
     "data": {
      "text/plain": [
       "(1729,)"
      ]
     },
     "execution_count": 6,
     "metadata": {},
     "output_type": "execute_result"
    }
   ],
   "source": [
    "times = np.load(tseriesfolder+'times.npy')\n",
    "times.shape"
   ]
  },
  {
   "cell_type": "code",
   "execution_count": 7,
   "metadata": {},
   "outputs": [
    {
     "data": {
      "text/plain": [
       "array([0.00000000e+00, 5.78703704e+00, 1.15740741e+01, ...,\n",
       "       9.98842593e+03, 9.99421296e+03, 1.00000000e+04])"
      ]
     },
     "execution_count": 7,
     "metadata": {},
     "output_type": "execute_result"
    }
   ],
   "source": [
    "times"
   ]
  },
  {
   "cell_type": "markdown",
   "metadata": {},
   "source": [
    "Plot simulation with index 178's eccentricity evolution of the 2nd planet: "
   ]
  },
  {
   "cell_type": "code",
   "execution_count": 8,
   "metadata": {},
   "outputs": [],
   "source": [
    "system = tseries[178, :, :]"
   ]
  },
  {
   "cell_type": "code",
   "execution_count": 19,
   "metadata": {},
   "outputs": [
    {
     "data": {
      "text/plain": [
       "[<matplotlib.lines.Line2D at 0x7f0bb05839b0>]"
      ]
     },
     "execution_count": 19,
     "metadata": {},
     "output_type": "execute_result"
    },
    {
     "data": {
      "image/png": "[encoded data removed]",
      "text/plain": [
       "<Figure size 432x288 with 1 Axes>"
      ]
     },
     "metadata": {
      "needs_background": "light"
     },
     "output_type": "display_data"
    }
   ],
   "source": [
    "fig, ax = plt.subplots()\n",
    "ax.plot(times, system[:,7], '.')"
   ]
  },
  {
   "cell_type": "markdown",
   "metadata": {},
   "source": [
    "We only want to analyze the systems that remained stable beyond 1e4 orbits (since we're doing the short integration anyway so no need to run it through when Nbody shows it's unstable). So you would only use the samples with 'instability_time' > 1e4 for training"
   ]
  },
  {
   "cell_type": "code",
   "execution_count": 20,
   "metadata": {},
   "outputs": [
    {
     "data": {
      "text/plain": [
       "(17522, 5)"
      ]
     },
     "execution_count": 20,
     "metadata": {},
     "output_type": "execute_result"
    }
   ],
   "source": [
    "dfcut = df[df['instability_time']>1e4]\n",
    "dfcut.shape"
   ]
  },
  {
   "cell_type": "code",
   "execution_count": 21,
   "metadata": {},
   "outputs": [
    {
     "data": {
      "text/html": [
       "<div>\n",
       "<style scoped>\n",
       "    .dataframe tbody tr th:only-of-type {\n",
       "        vertical-align: middle;\n",
       "    }\n",
       "\n",
       "    .dataframe tbody tr th {\n",
       "        vertical-align: top;\n",
       "    }\n",
       "\n",
       "    .dataframe thead th {\n",
       "        text-align: right;\n",
       "    }\n",
       "</style>\n",
       "<table border=\"1\" class=\"dataframe\">\n",
       "  <thead>\n",
       "    <tr style=\"text-align: right;\">\n",
       "      <th></th>\n",
       "      <th>instability_time</th>\n",
       "      <th>m1</th>\n",
       "      <th>m2</th>\n",
       "      <th>m3</th>\n",
       "      <th>Stable</th>\n",
       "    </tr>\n",
       "  </thead>\n",
       "  <tbody>\n",
       "    <tr>\n",
       "      <th>0</th>\n",
       "      <td>1.235644e+07</td>\n",
       "      <td>3.414016e-05</td>\n",
       "      <td>0.000019</td>\n",
       "      <td>1.826900e-06</td>\n",
       "      <td>False</td>\n",
       "    </tr>\n",
       "    <tr>\n",
       "      <th>1</th>\n",
       "      <td>1.348749e+05</td>\n",
       "      <td>2.529838e-07</td>\n",
       "      <td>0.000035</td>\n",
       "      <td>1.955797e-05</td>\n",
       "      <td>False</td>\n",
       "    </tr>\n",
       "    <tr>\n",
       "      <th>2</th>\n",
       "      <td>1.276381e+04</td>\n",
       "      <td>7.380789e-05</td>\n",
       "      <td>0.000070</td>\n",
       "      <td>1.477931e-07</td>\n",
       "      <td>False</td>\n",
       "    </tr>\n",
       "    <tr>\n",
       "      <th>3</th>\n",
       "      <td>1.000000e+09</td>\n",
       "      <td>5.174804e-07</td>\n",
       "      <td>0.000004</td>\n",
       "      <td>1.287851e-06</td>\n",
       "      <td>True</td>\n",
       "    </tr>\n",
       "    <tr>\n",
       "      <th>5</th>\n",
       "      <td>1.000000e+09</td>\n",
       "      <td>7.391032e-06</td>\n",
       "      <td>0.000017</td>\n",
       "      <td>2.429857e-05</td>\n",
       "      <td>True</td>\n",
       "    </tr>\n",
       "  </tbody>\n",
       "</table>\n",
       "</div>"
      ],
      "text/plain": [
       "   instability_time            m1        m2            m3  Stable\n",
       "0      1.235644e+07  3.414016e-05  0.000019  1.826900e-06   False\n",
       "1      1.348749e+05  2.529838e-07  0.000035  1.955797e-05   False\n",
       "2      1.276381e+04  7.380789e-05  0.000070  1.477931e-07   False\n",
       "3      1.000000e+09  5.174804e-07  0.000004  1.287851e-06    True\n",
       "5      1.000000e+09  7.391032e-06  0.000017  2.429857e-05    True"
      ]
     },
     "execution_count": 21,
     "metadata": {},
     "output_type": "execute_result"
    }
   ],
   "source": [
    "dfcut.head()"
   ]
  },
  {
   "cell_type": "markdown",
   "metadata": {},
   "source": [
    "I think you could grab them like this. Worth checking:"
   ]
  },
  {
   "cell_type": "code",
   "execution_count": 24,
   "metadata": {},
   "outputs": [
    {
     "data": {
      "text/plain": [
       "Int64Index([    0,     1,     2,     3,     5,    10,    11,    13,    14,\n",
       "               15,\n",
       "            ...\n",
       "            24984, 24987, 24990, 24991, 24992, 24994, 24995, 24997, 24998,\n",
       "            24999],\n",
       "           dtype='int64', length=17522)"
      ]
     },
     "execution_count": 24,
     "metadata": {},
     "output_type": "execute_result"
    }
   ],
   "source": [
    "dfcut.index"
   ]
  },
  {
   "cell_type": "code",
   "execution_count": 25,
   "metadata": {},
   "outputs": [],
   "source": [
    "test = tseries[dfcut.index, :, :]"
   ]
  },
  {
   "cell_type": "code",
   "execution_count": 26,
   "metadata": {},
   "outputs": [
    {
     "data": {
      "text/plain": [
       "(17522, 1729, 18)"
      ]
     },
     "execution_count": 26,
     "metadata": {},
     "output_type": "execute_result"
    }
   ],
   "source": [
    "test.shape"
   ]
  }
 ],
 "metadata": {
  "kernelspec": {
   "display_name": "Python 3",
   "language": "python",
   "name": "python3"
  },
  "language_info": {
   "codemirror_mode": {
    "name": "ipython",
    "version": 3
   },
   "file_extension": ".py",
   "mimetype": "text/x-python",
   "name": "python",
   "nbconvert_exporter": "python",
   "pygments_lexer": "ipython3",
   "version": "3.7.0"
  }
 },
 "nbformat": 4,
 "nbformat_minor": 2
}
