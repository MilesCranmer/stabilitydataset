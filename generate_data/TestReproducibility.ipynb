{
 "cells": [
  {
   "cell_type": "code",
   "execution_count": 2,
   "metadata": {},
   "outputs": [],
   "source": [
    "import rebound\n",
    "import numpy as np\n",
    "%matplotlib inline"
   ]
  },
  {
   "cell_type": "markdown",
   "metadata": {},
   "source": [
    "# Make arbitrary (chaotic) sim "
   ]
  },
  {
   "cell_type": "code",
   "execution_count": 19,
   "metadata": {},
   "outputs": [],
   "source": [
    "def makesim():\n",
    "    sim = rebound.Simulation()\n",
    "    sim.G = 4*np.pi**2\n",
    "    sim.add(m=1.)\n",
    "    sim.add(m=1.e-3, P=1., e=0.01, inc=0.1, pomega=2., Omega=1., f=1.5, r=1.e-5)\n",
    "    sim.add(m=1.e-3, P=1.45, e=0.01, inc=0.1, pomega=2., Omega=1., f=1.5, r=1.e-5)\n",
    "    sim.move_to_com()\n",
    "    sim.integrator=\"whfast\"\n",
    "    sim.dt = sim.particles[1].P*np.sqrt(3)/100.\n",
    "    return sim"
   ]
  },
  {
   "cell_type": "markdown",
   "metadata": {},
   "source": [
    "# Here's how we can save the simulation state with REBOUND, and reload it in a new simulation"
   ]
  },
  {
   "cell_type": "code",
   "execution_count": 20,
   "metadata": {},
   "outputs": [],
   "source": [
    "sim = makesim()\n",
    "sim.simulationarchive_snapshot(\"rebtest.bin\")"
   ]
  },
  {
   "cell_type": "code",
   "execution_count": 21,
   "metadata": {},
   "outputs": [],
   "source": [
    "sa = rebound.SimulationArchive(\"rebtest.bin\")\n",
    "sim2 = sa[0] # reloaded simulation"
   ]
  },
  {
   "cell_type": "markdown",
   "metadata": {},
   "source": [
    "# This function integrates for 1e4 orbits, then prints the DIFFERENCE between corresponding particles in the original and reloaded simulation"
   ]
  },
  {
   "cell_type": "code",
   "execution_count": 23,
   "metadata": {},
   "outputs": [],
   "source": [
    "def printdiff(sim, sim2):\n",
    "    sim.integrate(1.e4)\n",
    "    sim2.integrate(1.e4)\n",
    "    for i in range(sim.N):\n",
    "        print(sim.particles[i]-sim2.particles[i])"
   ]
  },
  {
   "cell_type": "markdown",
   "metadata": {},
   "source": [
    "# We get back all 0s, meaning the trajectories are identical"
   ]
  },
  {
   "cell_type": "code",
   "execution_count": 24,
   "metadata": {},
   "outputs": [
    {
     "name": "stdout",
     "output_type": "stream",
     "text": [
      "<rebound.Particle object, m=0.0 x=0.0 y=0.0 z=0.0 vx=0.0 vy=0.0 vz=0.0>\n",
      "<rebound.Particle object, m=0.0 x=0.0 y=0.0 z=0.0 vx=0.0 vy=0.0 vz=0.0>\n",
      "<rebound.Particle object, m=0.0 x=0.0 y=0.0 z=0.0 vx=0.0 vy=0.0 vz=0.0>\n"
     ]
    }
   ],
   "source": [
    "printdiff(sim, sim2)"
   ]
  },
  {
   "cell_type": "markdown",
   "metadata": {},
   "source": [
    "# Now let's try saving values with numpy. The numbers we have to set are the grav const G, the timestep, and all the particle parameters. You could make this use hdf5"
   ]
  },
  {
   "cell_type": "code",
   "execution_count": 25,
   "metadata": {},
   "outputs": [],
   "source": [
    "def newsavesim(sim, filename):\n",
    "    params = [sim.G, sim.dt]\n",
    "    for p in sim.particles:\n",
    "        params = params + [p.m, p.x, p.y, p.z, p.vx, p.vy, p.vz, p.r]\n",
    "    params = np.array(params)\n",
    "\n",
    "    params.tofile(filename)"
   ]
  },
  {
   "cell_type": "markdown",
   "metadata": {},
   "source": [
    "# Here's a function that takes the above convention for saving parameters, and puts them back into a REBOUND simulation to reload it"
   ]
  },
  {
   "cell_type": "code",
   "execution_count": 26,
   "metadata": {},
   "outputs": [],
   "source": [
    "def newloadsim(filename):\n",
    "    loadparam = np.fromfile(filename)\n",
    "\n",
    "    sim = rebound.Simulation()\n",
    "    sim.G = loadparam[0]\n",
    "    sim.dt = loadparam[1]\n",
    "\n",
    "    Nglobals = 2 # G and dt above\n",
    "    Nbodies = 3\n",
    "    Nparams = 8 # mass, radius and 6 cartesian pos/vel\n",
    "    for j in range(Nbodies):\n",
    "        p = loadparam[Nglobals + j*Nparams:Nglobals + (j+1)*Nparams] # get parameters for next planet\n",
    "        sim.add(m=p[0], x=p[1], y=p[2], z=p[3], vx=p[4], vy=p[5], vz=p[6], r=p[7])\n",
    "    sim.integrator=\"whfast\"\n",
    "    return sim"
   ]
  },
  {
   "cell_type": "code",
   "execution_count": 27,
   "metadata": {},
   "outputs": [],
   "source": [
    "sim = makesim()\n",
    "newsavesim(sim, 'test.bin')\n",
    "sim2 = newloadsim('test.bin')"
   ]
  },
  {
   "cell_type": "markdown",
   "metadata": {},
   "source": [
    "# Reloads and gives back identical trajectory fine"
   ]
  },
  {
   "cell_type": "code",
   "execution_count": 30,
   "metadata": {},
   "outputs": [
    {
     "name": "stdout",
     "output_type": "stream",
     "text": [
      "<rebound.Particle object, m=0.0 x=0.0 y=0.0 z=0.0 vx=0.0 vy=0.0 vz=0.0>\n",
      "<rebound.Particle object, m=0.0 x=0.0 y=0.0 z=0.0 vx=0.0 vy=0.0 vz=0.0>\n",
      "<rebound.Particle object, m=0.0 x=0.0 y=0.0 z=0.0 vx=0.0 vy=0.0 vz=0.0>\n"
     ]
    }
   ],
   "source": [
    "printdiff(sim, sim2)"
   ]
  },
  {
   "cell_type": "code",
   "execution_count": null,
   "metadata": {},
   "outputs": [],
   "source": []
  }
 ],
 "metadata": {
  "kernelspec": {
   "display_name": "Python 3",
   "language": "python",
   "name": "python3"
  },
  "language_info": {
   "codemirror_mode": {
    "name": "ipython",
    "version": 3
   },
   "file_extension": ".py",
   "mimetype": "text/x-python",
   "name": "python",
   "nbconvert_exporter": "python",
   "pygments_lexer": "ipython3",
   "version": "3.7.3"
  }
 },
 "nbformat": 4,
 "nbformat_minor": 2
}
