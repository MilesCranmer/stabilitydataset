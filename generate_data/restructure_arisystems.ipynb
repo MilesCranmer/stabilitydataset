{
 "cells": [
  {
   "cell_type": "code",
   "execution_count": 19,
   "metadata": {},
   "outputs": [],
   "source": [
    "import os\n",
    "from subprocess import call"
   ]
  },
  {
   "cell_type": "code",
   "execution_count": 2,
   "metadata": {},
   "outputs": [],
   "source": [
    "path = '/mnt/ssd/workspace/stability/stabilitydataset/data/arisystems/output/'\n",
    "pathtodata = '/mnt/ssd/workspace/stability/stabilitydataset/data/TTVsystems/'"
   ]
  },
  {
   "cell_type": "code",
   "execution_count": 20,
   "metadata": {},
   "outputs": [],
   "source": [
    "systems = ['Kepler-431', 'KOI-0115', 'KOI-0168', 'EPIC-210897587-2', 'Kepler-446', 'KOI-0085', 'KOI-0156', 'KOI-1576', 'LP-358-499', 'KOI-2086', 'KOI-0314']"
   ]
  },
  {
   "cell_type": "code",
   "execution_count": 22,
   "metadata": {},
   "outputs": [],
   "source": [
    "for system in systems:\n",
    "    call('mkdir ' + pathtodata + system + '/simulation_archives', shell=True)\n",
    "    call('mkdir ' + pathtodata + system + '/simulation_archives/runs', shell=True)\n",
    "    call('mkdir ' + pathtodata + system + '/simulation_archives/shadowruns', shell=True)"
   ]
  },
  {
   "cell_type": "code",
   "execution_count": null,
   "metadata": {},
   "outputs": [],
   "source": [
    "root, dirs, files = next(os.walk(path))\n",
    "for file in files:\n",
    "    names = file.split('_')\n",
    "    system = names[0]\n",
    "    simid = names[2][2:]\n",
    "    if names[3][-1] == '1':\n",
    "        shadow=True\n",
    "    else:\n",
    "        shadow=False\n",
    "    if shadow == False:\n",
    "        call('cp ' + path + file + ' ' + pathtodata + system + '/simulation_archives/runs/sa{0:0=7d}.bin'.format(int(simid)), shell=True)\n",
    "    else:\n",
    "        call('cp ' + path + file + ' ' + pathtodata + system + '/simulation_archives/shadowruns/sa{0:0=7d}.bin'.format(int(simid)), shell=True)"
   ]
  },
  {
   "cell_type": "code",
   "execution_count": 23,
   "metadata": {},
   "outputs": [],
   "source": [
    "pathtodata = '/mnt/ssd/workspace/stability/MLstability/training_data/TTVsystems/'"
   ]
  },
  {
   "cell_type": "code",
   "execution_count": 24,
   "metadata": {},
   "outputs": [],
   "source": [
    "for system in systems:\n",
    "    call('mkdir ' + pathtodata + system, shell=True)"
   ]
  },
  {
   "cell_type": "code",
   "execution_count": 25,
   "metadata": {},
   "outputs": [],
   "source": [
    "for system in systems:\n",
    "    call('rm -rf ' + pathtodata + system + '/simulation_archives', shell=True)"
   ]
  },
  {
   "cell_type": "code",
   "execution_count": 17,
   "metadata": {},
   "outputs": [
    {
     "data": {
      "text/plain": [
       "[1, 2, 3, 4]"
      ]
     },
     "execution_count": 17,
     "metadata": {},
     "output_type": "execute_result"
    }
   ],
   "source": [
    "[1,2] + [3,4]"
   ]
  },
  {
   "cell_type": "code",
   "execution_count": null,
   "metadata": {},
   "outputs": [],
   "source": []
  }
 ],
 "metadata": {
  "kernelspec": {
   "display_name": "Python 3",
   "language": "python",
   "name": "python3"
  },
  "language_info": {
   "codemirror_mode": {
    "name": "ipython",
    "version": 3
   },
   "file_extension": ".py",
   "mimetype": "text/x-python",
   "name": "python",
   "nbconvert_exporter": "python",
   "pygments_lexer": "ipython3",
   "version": "3.7.0"
  }
 },
 "nbformat": 4,
 "nbformat_minor": 2
}
