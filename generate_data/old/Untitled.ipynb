{
 "cells": [
  {
   "cell_type": "code",
   "execution_count": 18,
   "metadata": {
    "collapsed": true
   },
   "outputs": [],
   "source": [
    "import numpy as np\n",
    "import rebound\n",
    "from random import random, uniform, seed\n",
    "import time\n",
    "import sys\n",
    "import math\n",
    "\n",
    "def collision(reb_sim, col):\n",
    "    reb_sim.contents._status = 5 # causes simulation to stop running and have flag for whether sim stopped due to collision\n",
    "    print(\"collision\")\n",
    "    return 0\n",
    "\n",
    "def run_random(sim_id, integrator=\"whfast\", dt=None, maxorbs=1.e9, betamin=1., betamax=30., shadow=False, runstr=None):\n",
    "    if dt is None:\n",
    "        dt = 2.*math.sqrt(3)/100. # dt approx 3.5 % of innermost orbital period\n",
    "\n",
    "    datapath = '../data/random/'\n",
    "\n",
    "    a1 = 1. # All distances in units of the innermost semimajor axis (always at 1)\n",
    "    Mstar = 1. # All masses in units of stellar mass\n",
    "\n",
    "    logMmin = np.log10(1.e-7) # 1/3 Mars around Sun\n",
    "    logMmax = np.log10(1.e-4) # 2 Nep around Sun\n",
    "    logincmin = np.log10(1.e-3)\n",
    "    logincmax = np.log10(1.e-1) # max mutual inclination of 11.4 degrees. Absolute of 5.7 deg\n",
    "\n",
    "    seed(sim_id)\n",
    "\n",
    "    M1 = 10.**uniform(logMmin, logMmax)\n",
    "    M2 = 10.**uniform(logMmin, logMmax)\n",
    "    M3 = 10.**uniform(logMmin, logMmax)\n",
    "    print(M1,M2,M3)\n",
    "    hill12 = a1*((M1+M2)/3.)**(1./3.)\n",
    "    beta1 = uniform(betamin, betamax)\n",
    "    a2 = a1 + beta1*hill12\n",
    "\n",
    "    hill23 = a2*((M2+M3)/3.)**(1./3.)\n",
    "    beta2 = uniform(betamin, betamax)\n",
    "    a3 = a2 + beta2*hill23\n",
    "\n",
    "    print(beta1,beta2)\n",
    "    minhill = min(hill12, hill23)\n",
    "\n",
    "    ecrit1 = (a2-a1)/a1\n",
    "    ecrit21 = (a2-a1)/a2\n",
    "    ecrit23 = (a3-a2)/a2\n",
    "    ecrit3 = (a3-a2)/a3\n",
    "    \n",
    "    logemax1 = np.log10(ecrit1)\n",
    "    logemax2 = np.log10(min(ecrit21, ecrit23))\n",
    "    logemax3 = np.log10(ecrit3)\n",
    "\n",
    "    logemin1 = np.log10(M2/ecrit1**2)\n",
    "    logemin2 = np.log10(max(M1/ecrit21**2, M3/ecrit23**2))\n",
    "    logemin3 = np.log10(M2/ecrit3**2)\n",
    "\n",
    "    #print(\"M1 = {0}, M2 = {1}, M3 = {2}\".format(M1, M2, M3))\n",
    "    #print(\"beta1 = {0}, beta2 = {1}\".format(beta1, beta2))\n",
    "    #print(\"a1 = {0}, a2 = {1}, a3 = {2}\".format(a1, a2, a3))\n",
    "    #print(\"emax1 = {0}, emax2 = {1}, emax3 = {2}\".format(10**logemax1, 10**logemax2, 10**logemax3))\n",
    "    #print(\"emin1 = {0}, emin2 = {1}, emin3 = {2}\".format(10**logemin1, 10**logemin2, 10**logemin3))\n",
    "    #print(\"minhill = {0}\".format(minhill))\n",
    "\n",
    "    emax = 0.999\n",
    "    e1 = min(10.**uniform(logemin1, logemax1), emax) # make sure ecc < 1\n",
    "    e2 = min(10.**uniform(logemin2, logemax2), emax)\n",
    "    e3 = min(10.**uniform(logemin3, logemax3), emax)\n",
    "    \n",
    "    print(e1,e2,e3)\n",
    "    i1 = 10.**uniform(logincmin, logincmax)\n",
    "    i2 = 10.**uniform(logincmin, logincmax)\n",
    "    i3 = 10.**uniform(logincmin, logincmax)\n",
    "\n",
    "    sim = rebound.Simulation()\n",
    "    sim.integrator=integrator\n",
    "    sim.ri_whfast.safe_mode = 0\n",
    "    sim.G = 4*np.pi**2\n",
    "\n",
    "    sim.add(m=1.)\n",
    "    sim.add(m=M1, a=a1, e=e1, pomega=random()*2.*np.pi, inc=i1, Omega=random()*2.*np.pi, f=random()*2.*np.pi, r=minhill)\n",
    "    sim.add(m=M2, a=a2, e=e2, pomega=random()*2.*np.pi, inc=i2, Omega=random()*2.*np.pi, f=random()*2.*np.pi, r=minhill)\n",
    "    sim.add(m=M3, a=a3, e=e3, pomega=random()*2.*np.pi, inc=i3, Omega=random()*2.*np.pi, f=random()*2.*np.pi, r=minhill)\n",
    "    sim.move_to_com()\n",
    "    ps = sim.particles\n",
    "\n",
    "    if shadow:\n",
    "        kicksize=1.e-11\n",
    "        ps[2].x += kicksize\n",
    "\n",
    "    if integrator==\"whfast\":\n",
    "        sim.dt = dt*sim.particles[1].P\n",
    "    sim.collision = \"direct\"\n",
    "    sim.collision_resolve = collision\n",
    "        \n",
    "    #runstr = \"{0:0=7d}.bin\".format(sim_id)\n",
    "    if shadow:\n",
    "        shadowstr = 'shadow'\n",
    "    else:\n",
    "        shadowstr = ''\n",
    "\n",
    "    if runstr:\n",
    "        sim.save(datapath+'initial_conditions/'+shadowstr+'runs/ic'+runstr)\n",
    "        sim.initSimulationArchive(datapath+'simulation_archives/'+shadowstr+'runs/sa'+runstr, interval=maxorbs/1000.)\n",
    "\n",
    "    E0 = sim.calculate_energy()\n",
    "    t0 = time.time()\n",
    "    sim.integrate(maxorbs) # will stop if collision occurs\n",
    "    Ef = sim.calculate_energy()    \n",
    "    Eerr = abs((Ef-E0)/E0)\n",
    "\n",
    "    if runstr:\n",
    "        sim.save(datapath+'final_conditions/'+shadowstr+'runs/fc'+runstr)\n",
    "\n",
    "    return (sim.t, Eerr, time.time()-t0)\n"
   ]
  },
  {
   "cell_type": "code",
   "execution_count": 19,
   "metadata": {},
   "outputs": [
    {
     "name": "stdout",
     "output_type": "stream",
     "text": [
      "(9.5469564228340811e-05, 9.3470617232479616e-05, 2.2713480445937768e-07)\n",
      "(29.737610085296602, 7.533835565136871)\n",
      "(0.999, 0.0097133383635129716, 0.021985221510875164)\n",
      "collision\n",
      "collision\n"
     ]
    },
    {
     "data": {
      "text/plain": [
       "(32.00677112410179, 1.1789580744724729e-06, 0.002758026123046875)"
      ]
     },
     "execution_count": 19,
     "metadata": {},
     "output_type": "execute_result"
    }
   ],
   "source": [
    "run_random(11003, maxorbs=100)"
   ]
  },
  {
   "cell_type": "code",
   "execution_count": null,
   "metadata": {
    "collapsed": true
   },
   "outputs": [],
   "source": []
  }
 ],
 "metadata": {
  "kernelspec": {
   "display_name": "Python 3",
   "language": "python",
   "name": "python3"
  },
  "language_info": {
   "codemirror_mode": {
    "name": "ipython",
    "version": 3
   },
   "file_extension": ".py",
   "mimetype": "text/x-python",
   "name": "python",
   "nbconvert_exporter": "python",
   "pygments_lexer": "ipython3",
   "version": "3.7.0"
  }
 },
 "nbformat": 4,
 "nbformat_minor": 2
}
