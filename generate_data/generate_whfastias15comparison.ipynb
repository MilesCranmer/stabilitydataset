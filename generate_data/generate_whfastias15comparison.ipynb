{
 "cells": [
  {
   "cell_type": "code",
   "execution_count": 55,
   "metadata": {},
   "outputs": [
    {
     "data": {
      "text/plain": [
       "'whfastdt0.072'"
      ]
     },
     "execution_count": 55,
     "metadata": {},
     "output_type": "execute_result"
    }
   ],
   "source": [
    "\"whfastdt{:.3f}\".format(0.07179)"
   ]
  },
  {
   "cell_type": "code",
   "execution_count": 44,
   "metadata": {
    "collapsed": true
   },
   "outputs": [],
   "source": [
    "import rebound\n",
    "from multiprocessing import Pool\n",
    "from itertools import repeat\n",
    "from runfunctions import run_random"
   ]
  },
  {
   "cell_type": "code",
   "execution_count": 45,
   "metadata": {
    "collapsed": true
   },
   "outputs": [],
   "source": [
    "N_systems=40\n",
    "tmax = 1.e6\n",
    "betamin=5\n",
    "betamax=20"
   ]
  },
  {
   "cell_type": "code",
   "execution_count": 46,
   "metadata": {
    "collapsed": true
   },
   "outputs": [],
   "source": [
    "dt = 0.07\n",
    "integrator=\"whfast\"\n",
    "\n",
    "params = list(zip(range(N_systems), repeat(integrator), repeat(dt), repeat(tmax), repeat(betamin), repeat(betamax)))"
   ]
  },
  {
   "cell_type": "code",
   "execution_count": 47,
   "metadata": {},
   "outputs": [
    {
     "data": {
      "text/plain": [
       "[(0, 'whfast', 0.07, 1000000.0, 5, 20),\n",
       " (1, 'whfast', 0.07, 1000000.0, 5, 20),\n",
       " (2, 'whfast', 0.07, 1000000.0, 5, 20),\n",
       " (3, 'whfast', 0.07, 1000000.0, 5, 20),\n",
       " (4, 'whfast', 0.07, 1000000.0, 5, 20),\n",
       " (5, 'whfast', 0.07, 1000000.0, 5, 20),\n",
       " (6, 'whfast', 0.07, 1000000.0, 5, 20),\n",
       " (7, 'whfast', 0.07, 1000000.0, 5, 20),\n",
       " (8, 'whfast', 0.07, 1000000.0, 5, 20),\n",
       " (9, 'whfast', 0.07, 1000000.0, 5, 20),\n",
       " (10, 'whfast', 0.07, 1000000.0, 5, 20),\n",
       " (11, 'whfast', 0.07, 1000000.0, 5, 20),\n",
       " (12, 'whfast', 0.07, 1000000.0, 5, 20),\n",
       " (13, 'whfast', 0.07, 1000000.0, 5, 20),\n",
       " (14, 'whfast', 0.07, 1000000.0, 5, 20),\n",
       " (15, 'whfast', 0.07, 1000000.0, 5, 20),\n",
       " (16, 'whfast', 0.07, 1000000.0, 5, 20),\n",
       " (17, 'whfast', 0.07, 1000000.0, 5, 20),\n",
       " (18, 'whfast', 0.07, 1000000.0, 5, 20),\n",
       " (19, 'whfast', 0.07, 1000000.0, 5, 20),\n",
       " (20, 'whfast', 0.07, 1000000.0, 5, 20),\n",
       " (21, 'whfast', 0.07, 1000000.0, 5, 20),\n",
       " (22, 'whfast', 0.07, 1000000.0, 5, 20),\n",
       " (23, 'whfast', 0.07, 1000000.0, 5, 20),\n",
       " (24, 'whfast', 0.07, 1000000.0, 5, 20),\n",
       " (25, 'whfast', 0.07, 1000000.0, 5, 20),\n",
       " (26, 'whfast', 0.07, 1000000.0, 5, 20),\n",
       " (27, 'whfast', 0.07, 1000000.0, 5, 20),\n",
       " (28, 'whfast', 0.07, 1000000.0, 5, 20),\n",
       " (29, 'whfast', 0.07, 1000000.0, 5, 20),\n",
       " (30, 'whfast', 0.07, 1000000.0, 5, 20),\n",
       " (31, 'whfast', 0.07, 1000000.0, 5, 20),\n",
       " (32, 'whfast', 0.07, 1000000.0, 5, 20),\n",
       " (33, 'whfast', 0.07, 1000000.0, 5, 20),\n",
       " (34, 'whfast', 0.07, 1000000.0, 5, 20),\n",
       " (35, 'whfast', 0.07, 1000000.0, 5, 20),\n",
       " (36, 'whfast', 0.07, 1000000.0, 5, 20),\n",
       " (37, 'whfast', 0.07, 1000000.0, 5, 20),\n",
       " (38, 'whfast', 0.07, 1000000.0, 5, 20),\n",
       " (39, 'whfast', 0.07, 1000000.0, 5, 20)]"
      ]
     },
     "execution_count": 47,
     "metadata": {},
     "output_type": "execute_result"
    }
   ],
   "source": [
    "params"
   ]
  },
  {
   "cell_type": "code",
   "execution_count": 48,
   "metadata": {
    "collapsed": true
   },
   "outputs": [],
   "source": [
    "pool = Pool(4)\n",
    "res = pool.starmap(run_random, params)"
   ]
  },
  {
   "cell_type": "code",
   "execution_count": 49,
   "metadata": {},
   "outputs": [
    {
     "data": {
      "text/html": [
       "<div>\n",
       "<table border=\"1\" class=\"dataframe\">\n",
       "  <thead>\n",
       "    <tr style=\"text-align: right;\">\n",
       "      <th></th>\n",
       "      <th>instability_time</th>\n",
       "      <th>frac_energy_error</th>\n",
       "    </tr>\n",
       "  </thead>\n",
       "  <tbody>\n",
       "    <tr>\n",
       "      <th>0</th>\n",
       "      <td>1000000.000000</td>\n",
       "      <td>2.757676e-07</td>\n",
       "    </tr>\n",
       "    <tr>\n",
       "      <th>1</th>\n",
       "      <td>1000000.000000</td>\n",
       "      <td>4.306735e-07</td>\n",
       "    </tr>\n",
       "    <tr>\n",
       "      <th>2</th>\n",
       "      <td>236513.501882</td>\n",
       "      <td>1.459916e-06</td>\n",
       "    </tr>\n",
       "    <tr>\n",
       "      <th>3</th>\n",
       "      <td>1000000.000000</td>\n",
       "      <td>5.008857e-09</td>\n",
       "    </tr>\n",
       "    <tr>\n",
       "      <th>4</th>\n",
       "      <td>313.669920</td>\n",
       "      <td>8.974615e-05</td>\n",
       "    </tr>\n",
       "    <tr>\n",
       "      <th>5</th>\n",
       "      <td>1000000.000000</td>\n",
       "      <td>3.741789e-07</td>\n",
       "    </tr>\n",
       "    <tr>\n",
       "      <th>6</th>\n",
       "      <td>238482.519458</td>\n",
       "      <td>7.047665e-06</td>\n",
       "    </tr>\n",
       "    <tr>\n",
       "      <th>7</th>\n",
       "      <td>1000000.000000</td>\n",
       "      <td>5.146920e-09</td>\n",
       "    </tr>\n",
       "    <tr>\n",
       "      <th>8</th>\n",
       "      <td>217.769948</td>\n",
       "      <td>2.316773e-05</td>\n",
       "    </tr>\n",
       "    <tr>\n",
       "      <th>9</th>\n",
       "      <td>2145.007373</td>\n",
       "      <td>2.804606e-08</td>\n",
       "    </tr>\n",
       "    <tr>\n",
       "      <th>10</th>\n",
       "      <td>1000000.000000</td>\n",
       "      <td>1.406655e-07</td>\n",
       "    </tr>\n",
       "    <tr>\n",
       "      <th>11</th>\n",
       "      <td>1000000.000000</td>\n",
       "      <td>1.021555e-06</td>\n",
       "    </tr>\n",
       "    <tr>\n",
       "      <th>12</th>\n",
       "      <td>4262.924346</td>\n",
       "      <td>2.253053e-04</td>\n",
       "    </tr>\n",
       "    <tr>\n",
       "      <th>13</th>\n",
       "      <td>1000000.000000</td>\n",
       "      <td>3.512754e-08</td>\n",
       "    </tr>\n",
       "    <tr>\n",
       "      <th>14</th>\n",
       "      <td>1000000.000000</td>\n",
       "      <td>9.748780e-08</td>\n",
       "    </tr>\n",
       "    <tr>\n",
       "      <th>15</th>\n",
       "      <td>262784.575577</td>\n",
       "      <td>1.742508e-05</td>\n",
       "    </tr>\n",
       "    <tr>\n",
       "      <th>16</th>\n",
       "      <td>1000000.000000</td>\n",
       "      <td>2.902854e-06</td>\n",
       "    </tr>\n",
       "    <tr>\n",
       "      <th>17</th>\n",
       "      <td>1000000.000000</td>\n",
       "      <td>2.651975e-06</td>\n",
       "    </tr>\n",
       "    <tr>\n",
       "      <th>18</th>\n",
       "      <td>1000000.000000</td>\n",
       "      <td>1.170083e-08</td>\n",
       "    </tr>\n",
       "    <tr>\n",
       "      <th>19</th>\n",
       "      <td>59.499680</td>\n",
       "      <td>4.021278e-03</td>\n",
       "    </tr>\n",
       "    <tr>\n",
       "      <th>20</th>\n",
       "      <td>232.183951</td>\n",
       "      <td>1.833819e-05</td>\n",
       "    </tr>\n",
       "    <tr>\n",
       "      <th>21</th>\n",
       "      <td>872353.443784</td>\n",
       "      <td>1.267770e-06</td>\n",
       "    </tr>\n",
       "    <tr>\n",
       "      <th>22</th>\n",
       "      <td>13474.565217</td>\n",
       "      <td>2.856147e-09</td>\n",
       "    </tr>\n",
       "    <tr>\n",
       "      <th>23</th>\n",
       "      <td>1000000.000000</td>\n",
       "      <td>8.566591e-08</td>\n",
       "    </tr>\n",
       "    <tr>\n",
       "      <th>24</th>\n",
       "      <td>1000000.000000</td>\n",
       "      <td>2.956226e-07</td>\n",
       "    </tr>\n",
       "    <tr>\n",
       "      <th>25</th>\n",
       "      <td>72438.261039</td>\n",
       "      <td>2.152936e-05</td>\n",
       "    </tr>\n",
       "    <tr>\n",
       "      <th>26</th>\n",
       "      <td>5180.654791</td>\n",
       "      <td>8.633626e-08</td>\n",
       "    </tr>\n",
       "    <tr>\n",
       "      <th>27</th>\n",
       "      <td>19360.094618</td>\n",
       "      <td>3.544010e-06</td>\n",
       "    </tr>\n",
       "    <tr>\n",
       "      <th>28</th>\n",
       "      <td>613149.533226</td>\n",
       "      <td>8.412984e-08</td>\n",
       "    </tr>\n",
       "    <tr>\n",
       "      <th>29</th>\n",
       "      <td>834.398160</td>\n",
       "      <td>5.707479e-06</td>\n",
       "    </tr>\n",
       "    <tr>\n",
       "      <th>30</th>\n",
       "      <td>728245.381614</td>\n",
       "      <td>9.143718e-06</td>\n",
       "    </tr>\n",
       "    <tr>\n",
       "      <th>31</th>\n",
       "      <td>1000000.000000</td>\n",
       "      <td>5.683751e-08</td>\n",
       "    </tr>\n",
       "    <tr>\n",
       "      <th>32</th>\n",
       "      <td>1000000.000000</td>\n",
       "      <td>3.857587e-06</td>\n",
       "    </tr>\n",
       "    <tr>\n",
       "      <th>33</th>\n",
       "      <td>1000000.000000</td>\n",
       "      <td>5.332964e-08</td>\n",
       "    </tr>\n",
       "    <tr>\n",
       "      <th>34</th>\n",
       "      <td>311971.967582</td>\n",
       "      <td>4.839873e-05</td>\n",
       "    </tr>\n",
       "    <tr>\n",
       "      <th>35</th>\n",
       "      <td>1000000.000000</td>\n",
       "      <td>1.153065e-06</td>\n",
       "    </tr>\n",
       "    <tr>\n",
       "      <th>36</th>\n",
       "      <td>1000000.000000</td>\n",
       "      <td>8.626135e-07</td>\n",
       "    </tr>\n",
       "    <tr>\n",
       "      <th>37</th>\n",
       "      <td>1000000.000000</td>\n",
       "      <td>2.671354e-08</td>\n",
       "    </tr>\n",
       "    <tr>\n",
       "      <th>38</th>\n",
       "      <td>1000000.000000</td>\n",
       "      <td>1.681486e-06</td>\n",
       "    </tr>\n",
       "    <tr>\n",
       "      <th>39</th>\n",
       "      <td>1000000.000000</td>\n",
       "      <td>1.122545e-06</td>\n",
       "    </tr>\n",
       "  </tbody>\n",
       "</table>\n",
       "</div>"
      ],
      "text/plain": [
       "    instability_time  frac_energy_error\n",
       "0     1000000.000000       2.757676e-07\n",
       "1     1000000.000000       4.306735e-07\n",
       "2      236513.501882       1.459916e-06\n",
       "3     1000000.000000       5.008857e-09\n",
       "4         313.669920       8.974615e-05\n",
       "5     1000000.000000       3.741789e-07\n",
       "6      238482.519458       7.047665e-06\n",
       "7     1000000.000000       5.146920e-09\n",
       "8         217.769948       2.316773e-05\n",
       "9        2145.007373       2.804606e-08\n",
       "10    1000000.000000       1.406655e-07\n",
       "11    1000000.000000       1.021555e-06\n",
       "12       4262.924346       2.253053e-04\n",
       "13    1000000.000000       3.512754e-08\n",
       "14    1000000.000000       9.748780e-08\n",
       "15     262784.575577       1.742508e-05\n",
       "16    1000000.000000       2.902854e-06\n",
       "17    1000000.000000       2.651975e-06\n",
       "18    1000000.000000       1.170083e-08\n",
       "19         59.499680       4.021278e-03\n",
       "20        232.183951       1.833819e-05\n",
       "21     872353.443784       1.267770e-06\n",
       "22      13474.565217       2.856147e-09\n",
       "23    1000000.000000       8.566591e-08\n",
       "24    1000000.000000       2.956226e-07\n",
       "25      72438.261039       2.152936e-05\n",
       "26       5180.654791       8.633626e-08\n",
       "27      19360.094618       3.544010e-06\n",
       "28     613149.533226       8.412984e-08\n",
       "29        834.398160       5.707479e-06\n",
       "30     728245.381614       9.143718e-06\n",
       "31    1000000.000000       5.683751e-08\n",
       "32    1000000.000000       3.857587e-06\n",
       "33    1000000.000000       5.332964e-08\n",
       "34     311971.967582       4.839873e-05\n",
       "35    1000000.000000       1.153065e-06\n",
       "36    1000000.000000       8.626135e-07\n",
       "37    1000000.000000       2.671354e-08\n",
       "38    1000000.000000       1.681486e-06\n",
       "39    1000000.000000       1.122545e-06"
      ]
     },
     "execution_count": 49,
     "metadata": {},
     "output_type": "execute_result"
    }
   ],
   "source": [
    "import pandas as pd\n",
    "df = pd.DataFrame(res, columns=('instability_time', 'frac_energy_error'))\n",
    "df.head(N_systems)"
   ]
  },
  {
   "cell_type": "code",
   "execution_count": 67,
   "metadata": {},
   "outputs": [
    {
     "data": {
      "text/html": [
       "<div>\n",
       "<table border=\"1\" class=\"dataframe\">\n",
       "  <thead>\n",
       "    <tr style=\"text-align: right;\">\n",
       "      <th></th>\n",
       "      <th>instability_time</th>\n",
       "      <th>frac_energy_error</th>\n",
       "      <th>wall_time</th>\n",
       "    </tr>\n",
       "  </thead>\n",
       "  <tbody>\n",
       "    <tr>\n",
       "      <th>0</th>\n",
       "      <td>1000000.000000</td>\n",
       "      <td>3.229520e-05</td>\n",
       "      <td>9.958475</td>\n",
       "    </tr>\n",
       "    <tr>\n",
       "      <th>1</th>\n",
       "      <td>353911.351696</td>\n",
       "      <td>1.222598e-05</td>\n",
       "      <td>3.517359</td>\n",
       "    </tr>\n",
       "    <tr>\n",
       "      <th>2</th>\n",
       "      <td>16718.730906</td>\n",
       "      <td>2.960120e-04</td>\n",
       "      <td>0.166118</td>\n",
       "    </tr>\n",
       "    <tr>\n",
       "      <th>3</th>\n",
       "      <td>1000000.000000</td>\n",
       "      <td>1.505913e-07</td>\n",
       "      <td>9.914395</td>\n",
       "    </tr>\n",
       "  </tbody>\n",
       "</table>\n",
       "</div>"
      ],
      "text/plain": [
       "   instability_time  frac_energy_error  wall_time\n",
       "0    1000000.000000       3.229520e-05   9.958475\n",
       "1     353911.351696       1.222598e-05   3.517359\n",
       "2      16718.730906       2.960120e-04   0.166118\n",
       "3    1000000.000000       1.505913e-07   9.914395"
      ]
     },
     "execution_count": 67,
     "metadata": {},
     "output_type": "execute_result"
    }
   ],
   "source": [
    "import math\n",
    "df = pd.read_csv('../data/whfastias15comparison/whfastdt{:.3f}.csv'.format(6*math.sqrt(3)/100), index_col=0)\n",
    "df.head(20)"
   ]
  },
  {
   "cell_type": "code",
   "execution_count": 66,
   "metadata": {},
   "outputs": [
    {
     "data": {
      "text/html": [
       "<div>\n",
       "<table border=\"1\" class=\"dataframe\">\n",
       "  <thead>\n",
       "    <tr style=\"text-align: right;\">\n",
       "      <th></th>\n",
       "      <th>instability_time</th>\n",
       "      <th>frac_energy_error</th>\n",
       "    </tr>\n",
       "  </thead>\n",
       "  <tbody>\n",
       "    <tr>\n",
       "      <th>0</th>\n",
       "      <td>1000000.000000</td>\n",
       "      <td>3.537836e-06</td>\n",
       "    </tr>\n",
       "    <tr>\n",
       "      <th>1</th>\n",
       "      <td>758278.272355</td>\n",
       "      <td>9.174321e-06</td>\n",
       "    </tr>\n",
       "    <tr>\n",
       "      <th>2</th>\n",
       "      <td>311709.629851</td>\n",
       "      <td>1.473815e-05</td>\n",
       "    </tr>\n",
       "    <tr>\n",
       "      <th>3</th>\n",
       "      <td>1000000.000000</td>\n",
       "      <td>8.200710e-09</td>\n",
       "    </tr>\n",
       "  </tbody>\n",
       "</table>\n",
       "</div>"
      ],
      "text/plain": [
       "   instability_time  frac_energy_error\n",
       "0    1000000.000000       3.537836e-06\n",
       "1     758278.272355       9.174321e-06\n",
       "2     311709.629851       1.473815e-05\n",
       "3    1000000.000000       8.200710e-09"
      ]
     },
     "execution_count": 66,
     "metadata": {},
     "output_type": "execute_result"
    }
   ],
   "source": [
    "import math\n",
    "df = pd.read_csv('../data/whfastias15comparison/whfastdt{:.3f}shadow.csv'.format(6*math.sqrt(3)/100), index_col=0)\n",
    "df.head(20)"
   ]
  },
  {
   "cell_type": "code",
   "execution_count": 58,
   "metadata": {},
   "outputs": [
    {
     "data": {
      "text/html": [
       "<div>\n",
       "<table border=\"1\" class=\"dataframe\">\n",
       "  <thead>\n",
       "    <tr style=\"text-align: right;\">\n",
       "      <th></th>\n",
       "      <th>instability_time</th>\n",
       "      <th>frac_energy_error</th>\n",
       "    </tr>\n",
       "  </thead>\n",
       "  <tbody>\n",
       "    <tr>\n",
       "      <th>0</th>\n",
       "      <td>1000000.000000</td>\n",
       "      <td>4.559574e-14</td>\n",
       "    </tr>\n",
       "    <tr>\n",
       "      <th>1</th>\n",
       "      <td>1000000.000000</td>\n",
       "      <td>7.596780e-14</td>\n",
       "    </tr>\n",
       "    <tr>\n",
       "      <th>2</th>\n",
       "      <td>330120.005872</td>\n",
       "      <td>1.765120e-14</td>\n",
       "    </tr>\n",
       "    <tr>\n",
       "      <th>3</th>\n",
       "      <td>1000000.000000</td>\n",
       "      <td>3.898188e-14</td>\n",
       "    </tr>\n",
       "  </tbody>\n",
       "</table>\n",
       "</div>"
      ],
      "text/plain": [
       "   instability_time  frac_energy_error\n",
       "0    1000000.000000       4.559574e-14\n",
       "1    1000000.000000       7.596780e-14\n",
       "2     330120.005872       1.765120e-14\n",
       "3    1000000.000000       3.898188e-14"
      ]
     },
     "execution_count": 58,
     "metadata": {},
     "output_type": "execute_result"
    }
   ],
   "source": [
    "import math\n",
    "df = pd.read_csv('../data/whfastias15comparison/ias15.csv', index_col=0)\n",
    "df.head()"
   ]
  },
  {
   "cell_type": "code",
   "execution_count": 64,
   "metadata": {
    "collapsed": true
   },
   "outputs": [],
   "source": [
    "a=1"
   ]
  },
  {
   "cell_type": "code",
   "execution_count": 65,
   "metadata": {
    "collapsed": true
   },
   "outputs": [],
   "source": [
    "if a is True:\n",
    "    print(\"hi\")"
   ]
  },
  {
   "cell_type": "code",
   "execution_count": null,
   "metadata": {
    "collapsed": true
   },
   "outputs": [],
   "source": []
  }
 ],
 "metadata": {
  "kernelspec": {
   "display_name": "Python 3",
   "language": "python",
   "name": "python3"
  },
  "language_info": {
   "codemirror_mode": {
    "name": "ipython",
    "version": 3
   },
   "file_extension": ".py",
   "mimetype": "text/x-python",
   "name": "python",
   "nbconvert_exporter": "python",
   "pygments_lexer": "ipython3",
   "version": "3.4.3"
  }
 },
 "nbformat": 4,
 "nbformat_minor": 2
}
