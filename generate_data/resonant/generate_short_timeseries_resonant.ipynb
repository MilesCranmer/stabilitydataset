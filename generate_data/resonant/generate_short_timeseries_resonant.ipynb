{
 "cells": [
  {
   "cell_type": "markdown",
   "metadata": {},
   "source": [
    "Uses REBOUND commit a675e6f92cba32bae86f94739faec3b1b3098e81"
   ]
  },
  {
   "cell_type": "code",
   "execution_count": 1,
   "metadata": {},
   "outputs": [
    {
     "data": {
      "text/plain": [
       "'3.6.1'"
      ]
     },
     "execution_count": 1,
     "metadata": {},
     "output_type": "execute_result"
    }
   ],
   "source": [
    "import rebound\n",
    "rebound.__version__"
   ]
  },
  {
   "cell_type": "code",
   "execution_count": 2,
   "metadata": {},
   "outputs": [],
   "source": [
    "if rebound.__githash__ != 'a675e6f92cba32bae86f94739faec3b1b3098e81':\n",
    "    print('Should checkout commit above to ensure this runs correctly')"
   ]
  },
  {
   "cell_type": "code",
   "execution_count": 3,
   "metadata": {},
   "outputs": [],
   "source": [
    "import numpy as np\n",
    "import matplotlib.pyplot as plt\n",
    "import pandas as pd\n",
    "import dask.dataframe as dd\n",
    "%matplotlib inline\n",
    "\n",
    "path = '/mnt/ssd/workspace/stability/stabilitydataset/data/resonant/'\n",
    "safolder = path+'simulation_archives/runs/'"
   ]
  },
  {
   "cell_type": "code",
   "execution_count": 4,
   "metadata": {},
   "outputs": [
    {
     "data": {
      "text/html": [
       "<div>\n",
       "<style scoped>\n",
       "    .dataframe tbody tr th:only-of-type {\n",
       "        vertical-align: middle;\n",
       "    }\n",
       "\n",
       "    .dataframe tbody tr th {\n",
       "        vertical-align: top;\n",
       "    }\n",
       "\n",
       "    .dataframe thead th {\n",
       "        text-align: right;\n",
       "    }\n",
       "</style>\n",
       "<table border=\"1\" class=\"dataframe\">\n",
       "  <thead>\n",
       "    <tr style=\"text-align: right;\">\n",
       "      <th></th>\n",
       "      <th>runstring</th>\n",
       "    </tr>\n",
       "  </thead>\n",
       "  <tbody>\n",
       "    <tr>\n",
       "      <th>9995</th>\n",
       "      <td>0009995.bin</td>\n",
       "    </tr>\n",
       "    <tr>\n",
       "      <th>9996</th>\n",
       "      <td>0009996.bin</td>\n",
       "    </tr>\n",
       "    <tr>\n",
       "      <th>9997</th>\n",
       "      <td>0009997.bin</td>\n",
       "    </tr>\n",
       "    <tr>\n",
       "      <th>9998</th>\n",
       "      <td>0009998.bin</td>\n",
       "    </tr>\n",
       "    <tr>\n",
       "      <th>9999</th>\n",
       "      <td>0009999.bin</td>\n",
       "    </tr>\n",
       "  </tbody>\n",
       "</table>\n",
       "</div>"
      ],
      "text/plain": [
       "        runstring\n",
       "9995  0009995.bin\n",
       "9996  0009996.bin\n",
       "9997  0009997.bin\n",
       "9998  0009998.bin\n",
       "9999  0009999.bin"
      ]
     },
     "execution_count": 4,
     "metadata": {},
     "output_type": "execute_result"
    }
   ],
   "source": [
    "df = pd.read_csv(path+\"resonant.csv\", index_col = 0)\n",
    "df.tail()"
   ]
  },
  {
   "cell_type": "code",
   "execution_count": 5,
   "metadata": {},
   "outputs": [
    {
     "data": {
      "text/html": [
       "<div>\n",
       "<style scoped>\n",
       "    .dataframe tbody tr th:only-of-type {\n",
       "        vertical-align: middle;\n",
       "    }\n",
       "\n",
       "    .dataframe tbody tr th {\n",
       "        vertical-align: top;\n",
       "    }\n",
       "\n",
       "    .dataframe thead th {\n",
       "        text-align: right;\n",
       "    }\n",
       "</style>\n",
       "<table border=\"1\" class=\"dataframe\">\n",
       "  <thead>\n",
       "    <tr style=\"text-align: right;\">\n",
       "      <th></th>\n",
       "      <th>instability_time</th>\n",
       "      <th>m1</th>\n",
       "      <th>m2</th>\n",
       "      <th>m3</th>\n",
       "      <th>Stable</th>\n",
       "    </tr>\n",
       "  </thead>\n",
       "  <tbody>\n",
       "    <tr>\n",
       "      <th>0</th>\n",
       "      <td>1.545872e+06</td>\n",
       "      <td>3.984920e-06</td>\n",
       "      <td>1.244417e-05</td>\n",
       "      <td>2.531702e-07</td>\n",
       "      <td>False</td>\n",
       "    </tr>\n",
       "    <tr>\n",
       "      <th>1</th>\n",
       "      <td>9.990000e+08</td>\n",
       "      <td>2.065557e-07</td>\n",
       "      <td>1.681432e-05</td>\n",
       "      <td>6.830431e-07</td>\n",
       "      <td>True</td>\n",
       "    </tr>\n",
       "    <tr>\n",
       "      <th>2</th>\n",
       "      <td>9.990000e+08</td>\n",
       "      <td>1.797281e-07</td>\n",
       "      <td>3.209939e-05</td>\n",
       "      <td>9.648477e-05</td>\n",
       "      <td>True</td>\n",
       "    </tr>\n",
       "    <tr>\n",
       "      <th>3</th>\n",
       "      <td>2.287671e+06</td>\n",
       "      <td>4.704418e-05</td>\n",
       "      <td>6.920889e-06</td>\n",
       "      <td>1.615758e-05</td>\n",
       "      <td>False</td>\n",
       "    </tr>\n",
       "    <tr>\n",
       "      <th>4</th>\n",
       "      <td>9.668931e+05</td>\n",
       "      <td>3.514145e-06</td>\n",
       "      <td>7.277734e-07</td>\n",
       "      <td>4.655600e-05</td>\n",
       "      <td>False</td>\n",
       "    </tr>\n",
       "  </tbody>\n",
       "</table>\n",
       "</div>"
      ],
      "text/plain": [
       "   instability_time            m1            m2            m3  Stable\n",
       "0      1.545872e+06  3.984920e-06  1.244417e-05  2.531702e-07   False\n",
       "1      9.990000e+08  2.065557e-07  1.681432e-05  6.830431e-07    True\n",
       "2      9.990000e+08  1.797281e-07  3.209939e-05  9.648477e-05    True\n",
       "3      2.287671e+06  4.704418e-05  6.920889e-06  1.615758e-05   False\n",
       "4      9.668931e+05  3.514145e-06  7.277734e-07  4.655600e-05   False"
      ]
     },
     "execution_count": 5,
     "metadata": {},
     "output_type": "execute_result"
    }
   ],
   "source": [
    "df2 = pd.read_csv(path+\"metadata.csv\", index_col = 0)\n",
    "df2.head()"
   ]
  },
  {
   "cell_type": "markdown",
   "metadata": {},
   "source": [
    "# Test Reproducibility\n",
    "\n",
    "When we ran the resonant integrations (with the new simarchive), we did with safe_mode = 0 so we don't repeat kepler half steps. But this also sets sim.ri_whfast.keep_unsynchronized = 0, which you need for reproducibility. A value of 1 means that even if you synchronize, you'll keep integrating from the unsynchronized state if you keep going. So when integrating through a list of times, we need to set this if we want to match the sim archives. Also, the simarchives with safe_mode = 0 will be in an unsynchronized state (see simarchiverestart ipython_example), so we have to synchronize before comparing output."
   ]
  },
  {
   "cell_type": "code",
   "execution_count": 29,
   "metadata": {},
   "outputs": [
    {
     "name": "stdout",
     "output_type": "stream",
     "text": [
      "---------------------------------\n",
      "REBOUND version:     \t3.6.1\n",
      "REBOUND built on:    \tMar  4 2019 10:26:31\n",
      "Number of particles: \t4\n",
      "Selected integrator: \twhfast\n",
      "Simulation time:     \t1.0000000173176938e+06\n",
      "Current timestep:    \t0.034641\n",
      "---------------------------------\n",
      "<rebound.Particle object, m=0.9999960150799597 x=-3.658542143467641e-06 y=-1.949623323935794e-05 z=9.470806349629878e-08 vx=6.872767724455177e-05 vy=-3.73442855666929e-06 vz=3.496108378488267e-07>\n",
      "<rebound.Particle object, m=3.984920040268468e-06 x=-0.8738958364059268 y=0.4817517647367535 z=-0.003159573737010137 vx=-2.9307195320280233 vy=-5.572709926922893 vz=0.0012280114770667806>\n",
      "<rebound.Particle object, m=1.2444171101394952e-05 x=0.6063431581766432 y=1.4011530424916374 z=-0.007375445763490789 vx=-4.553768175624738 vy=2.174789434522493 vz=-0.026555396336484776>\n",
      "<rebound.Particle object, m=2.531702420746453e-07 x=-1.5977605108526833 y=0.5538766686714539 z=0.03817301570906049 vx=-1.5043238809838 vy=-4.4327274873988936 vz=-0.09496801973501136>\n",
      "---------------------------------\n"
     ]
    }
   ],
   "source": [
    "row = df.loc[0]\n",
    "sa = rebound.SimulationArchive(safolder+'sa'+row['runstring'])\n",
    "tmax = sa[1].t\n",
    "sim = sa[0]\n",
    "sim.ri_whfast.keep_unsynchronized = 1 # this is needed if we want to keep integrating after this\n",
    "sim.integrate(tmax, exact_finish_time=0)\n",
    "sim.status()"
   ]
  },
  {
   "cell_type": "code",
   "execution_count": 30,
   "metadata": {},
   "outputs": [
    {
     "name": "stdout",
     "output_type": "stream",
     "text": [
      "---------------------------------\n",
      "REBOUND version:     \t3.6.1\n",
      "REBOUND built on:    \tMar  4 2019 10:26:31\n",
      "Number of particles: \t4\n",
      "Selected integrator: \twhfast\n",
      "Simulation time:     \t1.0000000173176938e+06\n",
      "Current timestep:    \t0.034641\n",
      "---------------------------------\n",
      "<rebound.Particle object, m=0.9999960150799597 x=-3.658542143467641e-06 y=-1.949623323935794e-05 z=9.470806349629878e-08 vx=6.872767724455177e-05 vy=-3.73442855666929e-06 vz=3.496108378488267e-07>\n",
      "<rebound.Particle object, m=3.984920040268468e-06 x=-0.8738958364059268 y=0.4817517647367535 z=-0.003159573737010137 vx=-2.9307195320280233 vy=-5.572709926922893 vz=0.0012280114770667806>\n",
      "<rebound.Particle object, m=1.2444171101394952e-05 x=0.6063431581766432 y=1.4011530424916374 z=-0.007375445763490789 vx=-4.553768175624738 vy=2.174789434522493 vz=-0.026555396336484776>\n",
      "<rebound.Particle object, m=2.531702420746453e-07 x=-1.5977605108526833 y=0.5538766686714539 z=0.03817301570906049 vx=-1.5043238809838 vy=-4.4327274873988936 vz=-0.09496801973501136>\n",
      "---------------------------------\n"
     ]
    }
   ],
   "source": [
    "sim = sa[1]\n",
    "sim.integrator_synchronize() # need this step with new sim archive because we used safe_mode = 0\n",
    "sim.status()"
   ]
  },
  {
   "cell_type": "code",
   "execution_count": 31,
   "metadata": {},
   "outputs": [],
   "source": [
    "def testsim(sa, times):\n",
    "    sim = sa[0]\n",
    "    sim.ri_whfast.keep_unsynchronized = 1 # Without this we won't match sim archive, see above\n",
    "    val = np.zeros((Nout, 18))\n",
    "    for i, time in enumerate(times):\n",
    "        orbits = sim.calculate_orbits()\n",
    "        for j, o in enumerate(orbits):\n",
    "            val[i,6*j+0] = o.a\n",
    "            val[i,6*j+1] = o.e\n",
    "            val[i,6*j+2] = o.inc\n",
    "            val[i,6*j+3] = o.Omega\n",
    "            val[i,6*j+4] = o.pomega\n",
    "            val[i,6*j+5] = o.M\n",
    "        sim.integrate(time, exact_finish_time=0)\n",
    "    return sim"
   ]
  },
  {
   "cell_type": "code",
   "execution_count": 32,
   "metadata": {},
   "outputs": [],
   "source": [
    "Nsys = df.shape[0]\n",
    "Nout = 1729\n",
    "times = np.linspace(0, 1e4, Nout)"
   ]
  },
  {
   "cell_type": "code",
   "execution_count": 37,
   "metadata": {},
   "outputs": [],
   "source": [
    "import rebound\n",
    "row = df.loc[0]\n",
    "sa = rebound.SimulationArchive(safolder+'sa'+row['runstring'])\n",
    "t1 = sa[1].t\n",
    "sim = testsim(sa, times)"
   ]
  },
  {
   "cell_type": "code",
   "execution_count": 38,
   "metadata": {},
   "outputs": [
    {
     "name": "stdout",
     "output_type": "stream",
     "text": [
      "---------------------------------\n",
      "REBOUND version:     \t3.6.1\n",
      "REBOUND built on:    \tMar  4 2019 10:26:31\n",
      "Number of particles: \t4\n",
      "Selected integrator: \twhfast\n",
      "Simulation time:     \t1.0000000173176938e+06\n",
      "Current timestep:    \t0.034641\n",
      "---------------------------------\n",
      "<rebound.Particle object, m=0.9999960150799597 x=-3.658542143467641e-06 y=-1.949623323935794e-05 z=9.470806349629878e-08 vx=6.872767724455177e-05 vy=-3.73442855666929e-06 vz=3.496108378488267e-07>\n",
      "<rebound.Particle object, m=3.984920040268468e-06 x=-0.8738958364059268 y=0.4817517647367535 z=-0.003159573737010137 vx=-2.9307195320280233 vy=-5.572709926922893 vz=0.0012280114770667806>\n",
      "<rebound.Particle object, m=1.2444171101394952e-05 x=0.6063431581766432 y=1.4011530424916374 z=-0.007375445763490789 vx=-4.553768175624738 vy=2.174789434522493 vz=-0.026555396336484776>\n",
      "<rebound.Particle object, m=2.531702420746453e-07 x=-1.5977605108526833 y=0.5538766686714539 z=0.03817301570906049 vx=-1.5043238809838 vy=-4.4327274873988936 vz=-0.09496801973501136>\n",
      "---------------------------------\n"
     ]
    }
   ],
   "source": [
    "sim.integrate(t1, exact_finish_time=0)\n",
    "sim.status()"
   ]
  },
  {
   "cell_type": "code",
   "execution_count": 36,
   "metadata": {},
   "outputs": [
    {
     "name": "stdout",
     "output_type": "stream",
     "text": [
      "---------------------------------\n",
      "REBOUND version:     \t3.6.1\n",
      "REBOUND built on:    \tMar  4 2019 10:26:31\n",
      "Number of particles: \t4\n",
      "Selected integrator: \twhfast\n",
      "Simulation time:     \t1.0000000173176938e+06\n",
      "Current timestep:    \t0.034641\n",
      "---------------------------------\n",
      "<rebound.Particle object, m=0.9999960150799597 x=-3.658542143467641e-06 y=-1.949623323935794e-05 z=9.470806349629878e-08 vx=6.872767724455177e-05 vy=-3.73442855666929e-06 vz=3.496108378488267e-07>\n",
      "<rebound.Particle object, m=3.984920040268468e-06 x=-0.8738958364059268 y=0.4817517647367535 z=-0.003159573737010137 vx=-2.9307195320280233 vy=-5.572709926922893 vz=0.0012280114770667806>\n",
      "<rebound.Particle object, m=1.2444171101394952e-05 x=0.6063431581766432 y=1.4011530424916374 z=-0.007375445763490789 vx=-4.553768175624738 vy=2.174789434522493 vz=-0.026555396336484776>\n",
      "<rebound.Particle object, m=2.531702420746453e-07 x=-1.5977605108526833 y=0.5538766686714539 z=0.03817301570906049 vx=-1.5043238809838 vy=-4.4327274873988936 vz=-0.09496801973501136>\n",
      "---------------------------------\n"
     ]
    }
   ],
   "source": [
    "sim = sa[1]\n",
    "sim.integrator_synchronize()\n",
    "sim.status()"
   ]
  },
  {
   "cell_type": "markdown",
   "metadata": {},
   "source": [
    "# Resonant Parameters\n",
    "\n",
    "The functions "
   ]
  },
  {
   "cell_type": "code",
   "execution_count": 6,
   "metadata": {},
   "outputs": [],
   "source": [
    "import random\n",
    "import numpy as np\n",
    "from celmech import Andoyer, Poincare, AndoyerHamiltonian\n",
    "from celmech.andoyer import get_Xstarres\n",
    "import rebound\n",
    "from scipy.integrate import ode\n",
    "\n",
    "def logunif(r, mini, maxi):\n",
    "    logmin = np.log10(mini)\n",
    "    logmax = np.log10(maxi)\n",
    "    return 10**(r.uniform(logmin, logmax))\n",
    "\n",
    "def get_resonant(seed, Nplanets=3):\n",
    "    r = random.Random()\n",
    "    r.seed(seed)\n",
    "\n",
    "    Phiprimecrits = [0, 1., -2./3.]\n",
    "    pairs = ['inner', 'outer', 'split']\n",
    "    \n",
    "    k=r.randint(1,2) \n",
    "    pairindex=r.randint(0,2)\n",
    "    pair = pairs[pairindex]\n",
    "    m1 = logunif(r, 1.e-7, 1.e-4)\n",
    "    m2 = logunif(r, 1.e-7, 1.e-4)\n",
    "    eH = ((m1+m2)/3.)**(1./3.)\n",
    "    ehillstable = 3.5*eH\n",
    "    jmax = k/(1-1/(1+3.5*eH)**1.5)\n",
    "    if pair == 'split':\n",
    "        if Nplanets == 2:\n",
    "            return # don't want 2planet systems 60 hill radii apart\n",
    "        maxHillradii = 60. # 3rd planet will go in middle so draw up to 60\n",
    "    else:\n",
    "        maxHillradii = 30.\n",
    "    jmin = max(k+1, k/(1-1/(1+maxHillradii*eH)**1.5))\n",
    "    j = r.randint(np.ceil(jmin), int(np.floor(jmax)))\n",
    "    a1 = 1.\n",
    "    a2 = (float(j)/(j-k))**(2./3.)\n",
    "    ecross1 = (a2-a1)/a1\n",
    "    ecross2 = (a2-a1)/a2\n",
    "    emin1 = m2/ecross1**2\n",
    "    emin2 = m1/ecross2**2\n",
    "    emin = max(emin1, emin2) # take as min Z the larger of the kicks a planet gets at conjunction       \n",
    "    emin = max(emin, (m1+m2)**(1./k)) # below mtot^1/k, the resonant term is smaller than the second order mass terms we ignore\n",
    "    emax = min(ecross1, ecross2)\n",
    "    \n",
    "    avars = Andoyer(j=j,k=k,X=0,Y=0,m1=m1, m2=m2)\n",
    "    Phiprimecrit = Phiprimecrits[k]\n",
    "    Xcrit = get_Xstarres(k, Phiprimecrit)\n",
    "    Phicrit = 0.5*Xcrit**2\n",
    "    emin = max(avars.Phi_to_Z(Phicrit), emin) # first quantity is value of Z at bifurcation when res first appears\n",
    "    \n",
    "    Zstar=logunif(r, emin, emax)\n",
    "    libfac=logunif(r, 3.e-2, 3)\n",
    "    negative = r.randint(0,1)\n",
    "    if negative:\n",
    "        libfac *= -1\n",
    "    \n",
    "    avars = Andoyer.from_elements(j=j,k=k,Zstar=Zstar,libfac=libfac, m1=m1, m2=m2, Zcom=logunif(r, emin,emax), phiZcom=r.uniform(0,2*np.pi), theta=r.uniform(0,2*np.pi), theta1=r.uniform(0,2*np.pi))\n",
    "    tmax = r.uniform(0,10*avars.tlib)\n",
    "    H = AndoyerHamiltonian(avars)\n",
    "    H.integrate(tmax)\n",
    "    pvars = avars.to_Poincare()\n",
    "    ps = pvars.particles\n",
    "    if Nplanets==3:\n",
    "        m3 = logunif(r, 1.e-7, 1.e-4)\n",
    "        pvarssorted = Poincare(G=pvars.G)\n",
    "\n",
    "        if pair == \"inner\":\n",
    "            eH = ((m2+m3)/3.)**(1./3.)\n",
    "            beta = r.uniform(3.5,30)\n",
    "            a3 = a2*(1+beta*eH)\n",
    "            ecross3 = (a3-a2)/a3\n",
    "            emin3 = m2/ecross3**2\n",
    "            e3 = logunif(r, emin3, ecross3)\n",
    "            pvarssorted.add(m=ps[1].m, M=ps[1].M, a=ps[1].a, e=ps[1].e, gamma=ps[1].gamma, l=ps[1].l)\n",
    "            pvarssorted.add(m=ps[2].m, M=ps[2].M, a=ps[2].a, e=ps[2].e, gamma=ps[2].gamma, l=ps[2].l)\n",
    "            pvarssorted.add(m=m3, M=1, a=a3, e=e3, gamma=r.uniform(0, 2*np.pi), l=r.uniform(0, 2*np.pi))\n",
    "\n",
    "        elif pair == \"outer\":\n",
    "            eH = ((m1+m3)/3.)**(1./3.)\n",
    "            beta = r.uniform(3.5,30)\n",
    "            a3 = a1/(1+beta*eH)\n",
    "            ecross3 = (a1-a3)/a3\n",
    "            emin3 = m1/ecross3**2\n",
    "            e3 = logunif(r, emin3, ecross3)\n",
    "            pvarssorted.add(m=m3, M=1, a=a3, e=e3, gamma=r.uniform(0, 2*np.pi), l=r.uniform(0, 2*np.pi))\n",
    "            pvarssorted.add(m=ps[1].m, M=ps[1].M, a=ps[1].a, e=ps[1].e, gamma=ps[1].gamma, l=ps[1].l)\n",
    "            pvarssorted.add(m=ps[2].m, M=ps[2].M, a=ps[2].a, e=ps[2].e, gamma=ps[2].gamma, l=ps[2].l)\n",
    "\n",
    "        elif pair == \"split\":\n",
    "            eH1 = ((m1+m3)/3.)**(1./3.)\n",
    "            eH2 = ((m2+m3)/3.)**(1./3.)\n",
    "            amin = a1*(1+3.5*eH1)\n",
    "            amax = min(a1*(1+30*eH1), a2/(1+3.5*eH2))\n",
    "            if amin > amax:\n",
    "                seed += 900000\n",
    "                return get_resonant(seed=seed) # draw new sample (may not be 'split')\n",
    "            a3 = r.uniform(amin, amax)\n",
    "            ecross3 = min((a3-a1)/a1, (a2-a3)/a3)\n",
    "            emin3 = max(m1/((a3-a1)/a3)**2, m2/((a2-a3)/a3)**2)\n",
    "            e3 = logunif(r, emin3, ecross3)\n",
    "            pvarssorted.add(m=ps[1].m, M=ps[1].M, a=ps[1].a, e=ps[1].e, gamma=ps[1].gamma, l=ps[1].l)\n",
    "            pvarssorted.add(m=m3, M=1, a=a3, e=e3, gamma=r.uniform(0, 2*np.pi), l=r.uniform(0, 2*np.pi))\n",
    "            pvarssorted.add(m=ps[2].m, M=ps[2].M, a=ps[2].a, e=ps[2].e, gamma=ps[2].gamma, l=ps[2].l)\n",
    "        \n",
    "        sim = pvarssorted.to_Simulation()\n",
    "    else:\n",
    "        sim = avars.to_Simulation()\n",
    "    # add inclinations and scale s.t. a1 = 1, Mprimary=1. and G = 4*pi**2\n",
    "    ps = sim.particles\n",
    "    dscale = ps[1].a\n",
    "    mscale = ps[0].m\n",
    "    tscale = np.sqrt(4*np.pi**2*dscale**3/mscale) # = ps[1].P to within mass ratio\n",
    "    \n",
    "    siminc = rebound.Simulation()\n",
    "    siminc.G = sim.G*mscale/dscale**3*tscale**2\n",
    "    siminc.add(m=ps[0].m/mscale, x=ps[0].x/dscale, y=ps[0].y/dscale, vx=ps[0].vx/dscale*tscale, vy=ps[0].vy/dscale*tscale)\n",
    "    for p in ps[1:]:\n",
    "        siminc.add(m=p.m/mscale, a=p.a/dscale, e=p.e, inc=logunif(r, 1.e-3, 1.e-1), Omega=r.uniform(0,2*np.pi), pomega=p.pomega, l=p.l)\n",
    "        rH = siminc.particles[-1].a*(siminc.particles[-1].m/3./siminc.particles[0].m)**(1./3.) \n",
    "        siminc.particles[-1].r = rH\n",
    "    siminc.move_to_com()\n",
    "    siminc.integrator=\"whfast\"\n",
    "    siminc.dt = 2.*np.sqrt(3)/100.*siminc.particles[1].P\n",
    "    siminc.ri_whfast.safe_mode=0\n",
    "    siminc.collision=\"line\"\n",
    "    return siminc, avars\n",
    "\n",
    "def run_resonant(seed, runstr, Nplanets=3, maxorbs=1.e9, shadow=False):\n",
    "    success=False\n",
    "    while not success:\n",
    "        try:\n",
    "            sim, avars = get_resonant(seed, Nplanets)\n",
    "            sim.integrate(1.e4*sim.particles[1].P)\n",
    "            success=True\n",
    "        except rebound.Collision:\n",
    "            seed += 700000 # roughly relatively prime with amin > amax offset above\n",
    "            \n",
    "    sim, avars = get_resonant(seed, Nplanets) # get same sim\n",
    "    return sim, avars, seed"
   ]
  },
  {
   "cell_type": "code",
   "execution_count": 7,
   "metadata": {},
   "outputs": [
    {
     "data": {
      "text/html": [
       "<div>\n",
       "<style scoped>\n",
       "    .dataframe tbody tr th:only-of-type {\n",
       "        vertical-align: middle;\n",
       "    }\n",
       "\n",
       "    .dataframe tbody tr th {\n",
       "        vertical-align: top;\n",
       "    }\n",
       "\n",
       "    .dataframe thead th {\n",
       "        text-align: right;\n",
       "    }\n",
       "</style>\n",
       "<table border=\"1\" class=\"dataframe\">\n",
       "  <thead>\n",
       "    <tr style=\"text-align: right;\">\n",
       "      <th></th>\n",
       "      <th>runstring</th>\n",
       "      <th>seed</th>\n",
       "      <th>pairindex</th>\n",
       "      <th>j</th>\n",
       "      <th>k</th>\n",
       "      <th>Zstar</th>\n",
       "      <th>libfac</th>\n",
       "      <th>Zcom</th>\n",
       "      <th>instability_time</th>\n",
       "      <th>shadow_instability_time</th>\n",
       "    </tr>\n",
       "  </thead>\n",
       "  <tbody>\n",
       "    <tr>\n",
       "      <th>0</th>\n",
       "      <td>0000000.bin</td>\n",
       "      <td>3500000</td>\n",
       "      <td>1</td>\n",
       "      <td>12</td>\n",
       "      <td>1</td>\n",
       "      <td>0.021650</td>\n",
       "      <td>0.007181</td>\n",
       "      <td>0.041669</td>\n",
       "      <td>1.545872e+06</td>\n",
       "      <td>3.063700e+06</td>\n",
       "    </tr>\n",
       "    <tr>\n",
       "      <th>1</th>\n",
       "      <td>0000001.bin</td>\n",
       "      <td>700001</td>\n",
       "      <td>1</td>\n",
       "      <td>19</td>\n",
       "      <td>2</td>\n",
       "      <td>0.060291</td>\n",
       "      <td>0.523204</td>\n",
       "      <td>0.010656</td>\n",
       "      <td>9.990000e+08</td>\n",
       "      <td>9.990000e+08</td>\n",
       "    </tr>\n",
       "    <tr>\n",
       "      <th>2</th>\n",
       "      <td>0000002.bin</td>\n",
       "      <td>2</td>\n",
       "      <td>0</td>\n",
       "      <td>6</td>\n",
       "      <td>1</td>\n",
       "      <td>0.026353</td>\n",
       "      <td>0.012995</td>\n",
       "      <td>0.050319</td>\n",
       "      <td>9.990000e+08</td>\n",
       "      <td>9.990000e+08</td>\n",
       "    </tr>\n",
       "    <tr>\n",
       "      <th>3</th>\n",
       "      <td>0000003.bin</td>\n",
       "      <td>2100003</td>\n",
       "      <td>0</td>\n",
       "      <td>5</td>\n",
       "      <td>2</td>\n",
       "      <td>0.023511</td>\n",
       "      <td>0.713415</td>\n",
       "      <td>0.102200</td>\n",
       "      <td>2.287671e+06</td>\n",
       "      <td>8.392234e+06</td>\n",
       "    </tr>\n",
       "    <tr>\n",
       "      <th>4</th>\n",
       "      <td>0000004.bin</td>\n",
       "      <td>700004</td>\n",
       "      <td>0</td>\n",
       "      <td>12</td>\n",
       "      <td>1</td>\n",
       "      <td>0.017473</td>\n",
       "      <td>0.003612</td>\n",
       "      <td>0.039803</td>\n",
       "      <td>9.668931e+05</td>\n",
       "      <td>3.380350e+05</td>\n",
       "    </tr>\n",
       "  </tbody>\n",
       "</table>\n",
       "</div>"
      ],
      "text/plain": [
       "     runstring     seed  pairindex   j  k     Zstar    libfac      Zcom  \\\n",
       "0  0000000.bin  3500000          1  12  1  0.021650  0.007181  0.041669   \n",
       "1  0000001.bin   700001          1  19  2  0.060291  0.523204  0.010656   \n",
       "2  0000002.bin        2          0   6  1  0.026353  0.012995  0.050319   \n",
       "3  0000003.bin  2100003          0   5  2  0.023511  0.713415  0.102200   \n",
       "4  0000004.bin   700004          0  12  1  0.017473  0.003612  0.039803   \n",
       "\n",
       "   instability_time  shadow_instability_time  \n",
       "0      1.545872e+06             3.063700e+06  \n",
       "1      9.990000e+08             9.990000e+08  \n",
       "2      9.990000e+08             9.990000e+08  \n",
       "3      2.287671e+06             8.392234e+06  \n",
       "4      9.668931e+05             3.380350e+05  "
      ]
     },
     "execution_count": 7,
     "metadata": {},
     "output_type": "execute_result"
    }
   ],
   "source": [
    "df = pd.read_csv('/mnt/ssd/workspace/stability/stabilitydataset/data/resonant/data.csv', index_col=0)\n",
    "df.head()"
   ]
  },
  {
   "cell_type": "code",
   "execution_count": 16,
   "metadata": {},
   "outputs": [
    {
     "data": {
      "image/png": "[encoded data removed]",
      "text/plain": [
       "<Figure size 360x360 with 1 Axes>"
      ]
     },
     "metadata": {
      "needs_background": "light"
     },
     "output_type": "display_data"
    }
   ],
   "source": [
    "row = df.loc[0]\n",
    "filename = '/mnt/ssd/workspace/stability/stabilitydataset/data/resonant/simulation_archives/runs/sa'+row['runstring']\n",
    "sa = rebound.SimulationArchive(filename)\n",
    "sim = sa[0]\n",
    "fig = rebound.OrbitPlot(sim)"
   ]
  },
  {
   "cell_type": "code",
   "execution_count": 9,
   "metadata": {},
   "outputs": [
    {
     "name": "stdout",
     "output_type": "stream",
     "text": [
      "0.01747233040128172 0.039804409115265095\n"
     ]
    }
   ],
   "source": [
    "avars = Andoyer.from_Simulation(sim, row['j'], row['k'], i1=1, i2=2)\n",
    "print(avars.Zstar, avars.Zcom)"
   ]
  },
  {
   "cell_type": "code",
   "execution_count": 12,
   "metadata": {},
   "outputs": [],
   "source": [
    "i=0\n",
    "runstring = \"sa{0:0=7d}.bin\".format(i)\n",
    "sim, avars, seed = run_resonant(3500000, runstring)"
   ]
  },
  {
   "cell_type": "code",
   "execution_count": 13,
   "metadata": {},
   "outputs": [
    {
     "data": {
      "text/plain": [
       "3500000"
      ]
     },
     "execution_count": 13,
     "metadata": {},
     "output_type": "execute_result"
    }
   ],
   "source": [
    "seed"
   ]
  },
  {
   "cell_type": "code",
   "execution_count": 14,
   "metadata": {},
   "outputs": [
    {
     "data": {
      "text/plain": [
       "0.0"
      ]
     },
     "execution_count": 14,
     "metadata": {},
     "output_type": "execute_result"
    }
   ],
   "source": [
    "sim.t"
   ]
  },
  {
   "cell_type": "code",
   "execution_count": 15,
   "metadata": {},
   "outputs": [
    {
     "data": {
      "image/png": "[encoded data removed]",
      "text/plain": [
       "<Figure size 360x360 with 1 Axes>"
      ]
     },
     "metadata": {
      "needs_background": "light"
     },
     "output_type": "display_data"
    }
   ],
   "source": [
    "fig = rebound.OrbitPlot(sim)"
   ]
  },
  {
   "cell_type": "code",
   "execution_count": 47,
   "metadata": {},
   "outputs": [
    {
     "data": {
      "text/plain": [
       "0.0"
      ]
     },
     "execution_count": 47,
     "metadata": {},
     "output_type": "execute_result"
    }
   ],
   "source": [
    "sim2.t"
   ]
  },
  {
   "cell_type": "code",
   "execution_count": 43,
   "metadata": {},
   "outputs": [
    {
     "data": {
      "text/plain": [
       "0.016873340659951233"
      ]
     },
     "execution_count": 43,
     "metadata": {},
     "output_type": "execute_result"
    }
   ],
   "source": [
    "avars.Z"
   ]
  },
  {
   "cell_type": "code",
   "execution_count": 3,
   "metadata": {},
   "outputs": [
    {
     "name": "stderr",
     "output_type": "stream",
     "text": [
      "/mnt/raid-cita/dtamayo/venvstab/lib/python3.5/site-packages/scipy/integrate/_ode.py:1266: UserWarning: lsoda: Excess work done on this call (perhaps wrong Dfun type).\n",
      "  self.messages.get(istate, unexpected_istate_msg)))\n"
     ]
    },
    {
     "name": "stdout",
     "output_type": "stream",
     "text": [
      "CPU times: user 13min 2s, sys: 1.05 s, total: 13min 3s\n",
      "Wall time: 13min 4s\n"
     ]
    }
   ],
   "source": [
    "%%time\n",
    "avar = []\n",
    "for i in range(1000):\n",
    "    sim, avars = run_resonant(i, '')\n",
    "    avar.append(avars)"
   ]
  },
  {
   "cell_type": "code",
   "execution_count": 5,
   "metadata": {},
   "outputs": [
    {
     "name": "stdout",
     "output_type": "stream",
     "text": [
      "0.016874804607008617\n",
      "0.03242874835077454\n",
      "0.026940847930081932\n",
      "0.025430344565259284\n",
      "0.017525672925753185\n",
      "0.0049704265549585566\n",
      "0.0644541206935496\n",
      "0.0020130083089420618\n",
      "0.02234195721009475\n",
      "0.009147693189638529\n",
      "0.05439493855717779\n",
      "0.009993661749911622\n",
      "0.005887390142776393\n",
      "0.012703143598489926\n",
      "0.008865065273092913\n",
      "0.008090147514988738\n",
      "0.0012674285774070303\n",
      "0.04762364277158715\n",
      "0.043671257523256776\n",
      "0.0772575582732141\n"
     ]
    }
   ],
   "source": [
    "for a in avar[:20]:\n",
    "    print(a.Z)"
   ]
  },
  {
   "cell_type": "code",
   "execution_count": 7,
   "metadata": {
    "collapsed": true
   },
   "outputs": [],
   "source": [
    "Zs = [a.Z for a in avar]"
   ]
  },
  {
   "cell_type": "code",
   "execution_count": 151,
   "metadata": {},
   "outputs": [
    {
     "data": {
      "text/plain": [
       "(array([22., 21., 24., 19., 13.,  8., 16., 11., 10., 56.]),\n",
       " array([4.04389016, 4.53950114, 5.03511212, 5.5307231 , 6.02633409,\n",
       "        6.52194507, 7.01755605, 7.51316703, 8.00877801, 8.504389  ,\n",
       "        8.99999998]),\n",
       " <a list of 10 Patch objects>)"
      ]
     },
     "execution_count": 151,
     "metadata": {},
     "output_type": "execute_result"
    },
    {
     "data": {
      "image/png": "[encoded data removed]",
      "text/plain": [
       "<Figure size 432x288 with 1 Axes>"
      ]
     },
     "metadata": {},
     "output_type": "display_data"
    }
   ],
   "source": [
    "import matplotlib.pyplot as plt\n",
    "%matplotlib inline\n",
    "\n",
    "fig, ax = plt.subplots()\n",
    "ax.hist(np.log10(ts))"
   ]
  },
  {
   "cell_type": "code",
   "execution_count": 15,
   "metadata": {},
   "outputs": [
    {
     "data": {
      "text/plain": [
       "(array([  1.,   0.,   3.,   0.,   3.,  38., 158., 367., 330., 100.]),\n",
       " array([-5.82357245, -5.2914566 , -4.75934074, -4.22722488, -3.69510903,\n",
       "        -3.16299317, -2.63087732, -2.09876146, -1.56664561, -1.03452975,\n",
       "        -0.5024139 ]),\n",
       " <a list of 10 Patch objects>)"
      ]
     },
     "execution_count": 15,
     "metadata": {},
     "output_type": "execute_result"
    },
    {
     "data": {
      "image/png": "[encoded data removed]",
      "text/plain": [
       "<Figure size 432x288 with 1 Axes>"
      ]
     },
     "metadata": {},
     "output_type": "display_data"
    }
   ],
   "source": [
    "%matplotlib inline\n",
    "import matplotlib.pyplot as plt\n",
    "fig, ax = plt.subplots()\n",
    "ax.hist(np.log10(Zs))"
   ]
  },
  {
   "cell_type": "code",
   "execution_count": 13,
   "metadata": {
    "collapsed": true
   },
   "outputs": [],
   "source": [
    "Zcoms = [a.Zcom for a in avar]"
   ]
  },
  {
   "cell_type": "code",
   "execution_count": 32,
   "metadata": {},
   "outputs": [
    {
     "data": {
      "text/plain": [
       "(array([ 12.,  33.,  59., 102., 162., 189., 216., 149.,  59.,  19.]),\n",
       " array([-3.04564104, -2.7852778 , -2.52491456, -2.26455132, -2.00418808,\n",
       "        -1.74382484, -1.4834616 , -1.22309837, -0.96273513, -0.70237189,\n",
       "        -0.44200865]),\n",
       " <a list of 10 Patch objects>)"
      ]
     },
     "execution_count": 32,
     "metadata": {},
     "output_type": "execute_result"
    },
    {
     "data": {
      "image/png": "[encoded data removed]",
      "text/plain": [
       "<Figure size 432x288 with 1 Axes>"
      ]
     },
     "metadata": {},
     "output_type": "display_data"
    }
   ],
   "source": [
    "fig, ax = plt.subplots()\n",
    "ax.hist(np.log10(Zcoms))"
   ]
  },
  {
   "cell_type": "code",
   "execution_count": 31,
   "metadata": {},
   "outputs": [
    {
     "name": "stdout",
     "output_type": "stream",
     "text": [
      "CPU times: user 399 ms, sys: 1e+03 µs, total: 400 ms\n",
      "Wall time: 398 ms\n"
     ]
    }
   ],
   "source": [
    "%%time\n",
    "\n",
    "sim = rebound.Simulation()\n",
    "sim.add(m=1.)\n",
    "sim.add(m=1.e-5, a=1.)\n",
    "sim.add(m=1.e-5, a=2.)\n",
    "sim.add(m=1.e-5, a=3.)\n",
    "sim.move_to_com()\n",
    "sim.integrator=\"whfast\"\n",
    "sim.dt = 2*np.sqrt(3)*sim.particles[1].P/100.\n",
    "sim.integrate(1.e4*sim.particles[1].P)"
   ]
  },
  {
   "cell_type": "code",
   "execution_count": 3,
   "metadata": {},
   "outputs": [
    {
     "data": {
      "text/html": [
       "<div>\n",
       "<table border=\"1\" class=\"dataframe\">\n",
       "  <thead>\n",
       "    <tr style=\"text-align: right;\">\n",
       "      <th></th>\n",
       "      <th>runstring</th>\n",
       "      <th>seed</th>\n",
       "      <th>pairindex</th>\n",
       "      <th>j</th>\n",
       "      <th>k</th>\n",
       "      <th>Zstar</th>\n",
       "      <th>libfac</th>\n",
       "      <th>Zcom</th>\n",
       "    </tr>\n",
       "  </thead>\n",
       "  <tbody>\n",
       "    <tr>\n",
       "      <th>0</th>\n",
       "      <td>0000000.bin</td>\n",
       "      <td>0</td>\n",
       "      <td>0</td>\n",
       "      <td>0</td>\n",
       "      <td>0</td>\n",
       "      <td>0</td>\n",
       "      <td>0</td>\n",
       "      <td>0</td>\n",
       "    </tr>\n",
       "    <tr>\n",
       "      <th>1</th>\n",
       "      <td>0000001.bin</td>\n",
       "      <td>0</td>\n",
       "      <td>0</td>\n",
       "      <td>0</td>\n",
       "      <td>0</td>\n",
       "      <td>0</td>\n",
       "      <td>0</td>\n",
       "      <td>0</td>\n",
       "    </tr>\n",
       "    <tr>\n",
       "      <th>2</th>\n",
       "      <td>0000002.bin</td>\n",
       "      <td>0</td>\n",
       "      <td>0</td>\n",
       "      <td>0</td>\n",
       "      <td>0</td>\n",
       "      <td>0</td>\n",
       "      <td>0</td>\n",
       "      <td>0</td>\n",
       "    </tr>\n",
       "    <tr>\n",
       "      <th>3</th>\n",
       "      <td>0000003.bin</td>\n",
       "      <td>0</td>\n",
       "      <td>0</td>\n",
       "      <td>0</td>\n",
       "      <td>0</td>\n",
       "      <td>0</td>\n",
       "      <td>0</td>\n",
       "      <td>0</td>\n",
       "    </tr>\n",
       "    <tr>\n",
       "      <th>4</th>\n",
       "      <td>0000004.bin</td>\n",
       "      <td>0</td>\n",
       "      <td>0</td>\n",
       "      <td>0</td>\n",
       "      <td>0</td>\n",
       "      <td>0</td>\n",
       "      <td>0</td>\n",
       "      <td>0</td>\n",
       "    </tr>\n",
       "  </tbody>\n",
       "</table>\n",
       "</div>"
      ],
      "text/plain": [
       "     runstring  seed  pairindex  j  k  Zstar  libfac  Zcom\n",
       "0  0000000.bin     0          0  0  0      0       0     0\n",
       "1  0000001.bin     0          0  0  0      0       0     0\n",
       "2  0000002.bin     0          0  0  0      0       0     0\n",
       "3  0000003.bin     0          0  0  0      0       0     0\n",
       "4  0000004.bin     0          0  0  0      0       0     0"
      ]
     },
     "execution_count": 3,
     "metadata": {},
     "output_type": "execute_result"
    }
   ],
   "source": [
    "import pandas as pd\n",
    "df = pd.read_csv(\"../data/csvs/resonant.csv\", index_col=0)\n",
    "df['seed'] = 0\n",
    "df['pairindex'] = 0\n",
    "df['j'] = 0\n",
    "df['k'] = 0\n",
    "df['Zstar'] = 0\n",
    "df['libfac'] = 0\n",
    "df['Zcom'] = 0\n",
    "df.head()"
   ]
  },
  {
   "cell_type": "code",
   "execution_count": 5,
   "metadata": {},
   "outputs": [
    {
     "name": "stdout",
     "output_type": "stream",
     "text": [
      "stab2058.o2040528\n"
     ]
    }
   ],
   "source": [
    "import os\n",
    "for f in os.listdir('../generate_data/'):\n",
    "    if \"stab\" in f and \".o\" in f:\n",
    "        with open('../generate_data/'+f, 'r') as inf:\n",
    "            lines = inf.readlines()\n",
    "            vals = lines[0].split(\",\")\n",
    "            try:\n",
    "                ID = int(vals[0])\n",
    "                df.loc[ID, 'seed'] = int(vals[1])\n",
    "                df.loc[ID, 'pairindex'] = int(vals[2])\n",
    "                df.loc[ID, 'j'] = int(vals[3])\n",
    "                df.loc[ID, 'k'] = int(vals[4])\n",
    "                df.loc[ID, 'Zstar'] = float(vals[5])\n",
    "                df.loc[ID, 'libfac'] = float(vals[6])\n",
    "                df.loc[ID, 'Zcom'] = float(vals[7])\n",
    "            except:\n",
    "                print(f)"
   ]
  },
  {
   "cell_type": "code",
   "execution_count": 2,
   "metadata": {},
   "outputs": [],
   "source": [
    "import rebound\n",
    "import numpy as np\n",
    "\n",
    "def get_time(f):\n",
    "    try:\n",
    "        time = rebound.SimulationArchive('../data/resonant/simulation_archives/runs/sa'+f)[-1].t\n",
    "    except:\n",
    "        time = np.nan\n",
    "    return time\n",
    "\n",
    "def get_shadow_time(f):\n",
    "    try:\n",
    "        time = rebound.SimulationArchive('../data/resonant/simulation_archives/shadowruns/sa'+f)[-1].t\n",
    "    except:\n",
    "        time = np.nan\n",
    "    return time\n",
    "df['instability_time'] = df['runstring'].apply(get_time)"
   ]
  },
  {
   "cell_type": "code",
   "execution_count": 15,
   "metadata": {},
   "outputs": [
    {
     "data": {
      "text/html": [
       "<div>\n",
       "<table border=\"1\" class=\"dataframe\">\n",
       "  <thead>\n",
       "    <tr style=\"text-align: right;\">\n",
       "      <th></th>\n",
       "      <th>runstring</th>\n",
       "      <th>seed</th>\n",
       "      <th>pairindex</th>\n",
       "      <th>j</th>\n",
       "      <th>k</th>\n",
       "      <th>Zstar</th>\n",
       "      <th>libfac</th>\n",
       "      <th>Zcom</th>\n",
       "      <th>instability_time</th>\n",
       "    </tr>\n",
       "  </thead>\n",
       "  <tbody>\n",
       "    <tr>\n",
       "      <th>0</th>\n",
       "      <td>0000000.bin</td>\n",
       "      <td>3500000</td>\n",
       "      <td>1</td>\n",
       "      <td>12</td>\n",
       "      <td>1</td>\n",
       "      <td>0.021650</td>\n",
       "      <td>0.007181</td>\n",
       "      <td>0.041669</td>\n",
       "      <td>1.545872e+06</td>\n",
       "    </tr>\n",
       "    <tr>\n",
       "      <th>1</th>\n",
       "      <td>0000001.bin</td>\n",
       "      <td>700001</td>\n",
       "      <td>1</td>\n",
       "      <td>19</td>\n",
       "      <td>2</td>\n",
       "      <td>0.060291</td>\n",
       "      <td>0.523204</td>\n",
       "      <td>0.010656</td>\n",
       "      <td>9.990000e+08</td>\n",
       "    </tr>\n",
       "    <tr>\n",
       "      <th>2</th>\n",
       "      <td>0000002.bin</td>\n",
       "      <td>2</td>\n",
       "      <td>0</td>\n",
       "      <td>6</td>\n",
       "      <td>1</td>\n",
       "      <td>0.026353</td>\n",
       "      <td>0.012995</td>\n",
       "      <td>0.050319</td>\n",
       "      <td>9.990000e+08</td>\n",
       "    </tr>\n",
       "    <tr>\n",
       "      <th>3</th>\n",
       "      <td>0000003.bin</td>\n",
       "      <td>2100003</td>\n",
       "      <td>0</td>\n",
       "      <td>5</td>\n",
       "      <td>2</td>\n",
       "      <td>0.023511</td>\n",
       "      <td>0.713415</td>\n",
       "      <td>0.102200</td>\n",
       "      <td>2.287671e+06</td>\n",
       "    </tr>\n",
       "    <tr>\n",
       "      <th>4</th>\n",
       "      <td>0000004.bin</td>\n",
       "      <td>700004</td>\n",
       "      <td>0</td>\n",
       "      <td>12</td>\n",
       "      <td>1</td>\n",
       "      <td>0.017473</td>\n",
       "      <td>0.003612</td>\n",
       "      <td>0.039803</td>\n",
       "      <td>9.668931e+05</td>\n",
       "    </tr>\n",
       "  </tbody>\n",
       "</table>\n",
       "</div>"
      ],
      "text/plain": [
       "     runstring     seed  pairindex   j  k     Zstar    libfac      Zcom  \\\n",
       "0  0000000.bin  3500000          1  12  1  0.021650  0.007181  0.041669   \n",
       "1  0000001.bin   700001          1  19  2  0.060291  0.523204  0.010656   \n",
       "2  0000002.bin        2          0   6  1  0.026353  0.012995  0.050319   \n",
       "3  0000003.bin  2100003          0   5  2  0.023511  0.713415  0.102200   \n",
       "4  0000004.bin   700004          0  12  1  0.017473  0.003612  0.039803   \n",
       "\n",
       "   instability_time  \n",
       "0      1.545872e+06  \n",
       "1      9.990000e+08  \n",
       "2      9.990000e+08  \n",
       "3      2.287671e+06  \n",
       "4      9.668931e+05  "
      ]
     },
     "execution_count": 15,
     "metadata": {},
     "output_type": "execute_result"
    }
   ],
   "source": [
    "df.head()"
   ]
  },
  {
   "cell_type": "code",
   "execution_count": 6,
   "metadata": {},
   "outputs": [],
   "source": [
    "df.to_csv('../data/csvs/data.csv')"
   ]
  },
  {
   "cell_type": "code",
   "execution_count": 3,
   "metadata": {},
   "outputs": [
    {
     "data": {
      "text/html": [
       "<div>\n",
       "<table border=\"1\" class=\"dataframe\">\n",
       "  <thead>\n",
       "    <tr style=\"text-align: right;\">\n",
       "      <th></th>\n",
       "      <th>Unnamed: 0</th>\n",
       "      <th>runstring</th>\n",
       "      <th>seed</th>\n",
       "      <th>pairindex</th>\n",
       "      <th>j</th>\n",
       "      <th>k</th>\n",
       "      <th>Zstar</th>\n",
       "      <th>libfac</th>\n",
       "      <th>Zcom</th>\n",
       "      <th>instability_time</th>\n",
       "      <th>shadow_instability_time</th>\n",
       "    </tr>\n",
       "  </thead>\n",
       "  <tbody>\n",
       "    <tr>\n",
       "      <th>0</th>\n",
       "      <td>0</td>\n",
       "      <td>0000000.bin</td>\n",
       "      <td>3500000</td>\n",
       "      <td>1</td>\n",
       "      <td>12</td>\n",
       "      <td>1</td>\n",
       "      <td>0.021650</td>\n",
       "      <td>0.007181</td>\n",
       "      <td>0.041669</td>\n",
       "      <td>1.545872e+06</td>\n",
       "      <td>3.063700e+06</td>\n",
       "    </tr>\n",
       "    <tr>\n",
       "      <th>1</th>\n",
       "      <td>1</td>\n",
       "      <td>0000001.bin</td>\n",
       "      <td>700001</td>\n",
       "      <td>1</td>\n",
       "      <td>19</td>\n",
       "      <td>2</td>\n",
       "      <td>0.060291</td>\n",
       "      <td>0.523204</td>\n",
       "      <td>0.010656</td>\n",
       "      <td>9.990000e+08</td>\n",
       "      <td>9.990000e+08</td>\n",
       "    </tr>\n",
       "    <tr>\n",
       "      <th>2</th>\n",
       "      <td>2</td>\n",
       "      <td>0000002.bin</td>\n",
       "      <td>2</td>\n",
       "      <td>0</td>\n",
       "      <td>6</td>\n",
       "      <td>1</td>\n",
       "      <td>0.026353</td>\n",
       "      <td>0.012995</td>\n",
       "      <td>0.050319</td>\n",
       "      <td>9.990000e+08</td>\n",
       "      <td>9.990000e+08</td>\n",
       "    </tr>\n",
       "    <tr>\n",
       "      <th>3</th>\n",
       "      <td>3</td>\n",
       "      <td>0000003.bin</td>\n",
       "      <td>2100003</td>\n",
       "      <td>0</td>\n",
       "      <td>5</td>\n",
       "      <td>2</td>\n",
       "      <td>0.023511</td>\n",
       "      <td>0.713415</td>\n",
       "      <td>0.102200</td>\n",
       "      <td>2.287671e+06</td>\n",
       "      <td>8.392234e+06</td>\n",
       "    </tr>\n",
       "    <tr>\n",
       "      <th>4</th>\n",
       "      <td>4</td>\n",
       "      <td>0000004.bin</td>\n",
       "      <td>700004</td>\n",
       "      <td>0</td>\n",
       "      <td>12</td>\n",
       "      <td>1</td>\n",
       "      <td>0.017473</td>\n",
       "      <td>0.003612</td>\n",
       "      <td>0.039803</td>\n",
       "      <td>9.668931e+05</td>\n",
       "      <td>3.380350e+05</td>\n",
       "    </tr>\n",
       "  </tbody>\n",
       "</table>\n",
       "</div>"
      ],
      "text/plain": [
       "   Unnamed: 0    runstring     seed  pairindex   j  k     Zstar    libfac  \\\n",
       "0           0  0000000.bin  3500000          1  12  1  0.021650  0.007181   \n",
       "1           1  0000001.bin   700001          1  19  2  0.060291  0.523204   \n",
       "2           2  0000002.bin        2          0   6  1  0.026353  0.012995   \n",
       "3           3  0000003.bin  2100003          0   5  2  0.023511  0.713415   \n",
       "4           4  0000004.bin   700004          0  12  1  0.017473  0.003612   \n",
       "\n",
       "       Zcom  instability_time  shadow_instability_time  \n",
       "0  0.041669      1.545872e+06             3.063700e+06  \n",
       "1  0.010656      9.990000e+08             9.990000e+08  \n",
       "2  0.050319      9.990000e+08             9.990000e+08  \n",
       "3  0.102200      2.287671e+06             8.392234e+06  \n",
       "4  0.039803      9.668931e+05             3.380350e+05  "
      ]
     },
     "execution_count": 3,
     "metadata": {},
     "output_type": "execute_result"
    }
   ],
   "source": [
    "df = pd.read_csv('../data/csvs/data.csv')\n",
    "df['shadow_instability_time'] = df['runstring'].apply(get_shadow_time)\n",
    "df.head()"
   ]
  },
  {
   "cell_type": "code",
   "execution_count": 5,
   "metadata": {},
   "outputs": [
    {
     "data": {
      "text/html": [
       "<div>\n",
       "<table border=\"1\" class=\"dataframe\">\n",
       "  <thead>\n",
       "    <tr style=\"text-align: right;\">\n",
       "      <th></th>\n",
       "      <th>runstring</th>\n",
       "      <th>seed</th>\n",
       "      <th>pairindex</th>\n",
       "      <th>j</th>\n",
       "      <th>k</th>\n",
       "      <th>Zstar</th>\n",
       "      <th>libfac</th>\n",
       "      <th>Zcom</th>\n",
       "      <th>instability_time</th>\n",
       "      <th>shadow_instability_time</th>\n",
       "    </tr>\n",
       "  </thead>\n",
       "  <tbody>\n",
       "    <tr>\n",
       "      <th>0</th>\n",
       "      <td>0000000.bin</td>\n",
       "      <td>3500000</td>\n",
       "      <td>1</td>\n",
       "      <td>12</td>\n",
       "      <td>1</td>\n",
       "      <td>0.021650</td>\n",
       "      <td>0.007181</td>\n",
       "      <td>0.041669</td>\n",
       "      <td>1.545872e+06</td>\n",
       "      <td>3.063700e+06</td>\n",
       "    </tr>\n",
       "    <tr>\n",
       "      <th>1</th>\n",
       "      <td>0000001.bin</td>\n",
       "      <td>700001</td>\n",
       "      <td>1</td>\n",
       "      <td>19</td>\n",
       "      <td>2</td>\n",
       "      <td>0.060291</td>\n",
       "      <td>0.523204</td>\n",
       "      <td>0.010656</td>\n",
       "      <td>9.990000e+08</td>\n",
       "      <td>9.990000e+08</td>\n",
       "    </tr>\n",
       "    <tr>\n",
       "      <th>2</th>\n",
       "      <td>0000002.bin</td>\n",
       "      <td>2</td>\n",
       "      <td>0</td>\n",
       "      <td>6</td>\n",
       "      <td>1</td>\n",
       "      <td>0.026353</td>\n",
       "      <td>0.012995</td>\n",
       "      <td>0.050319</td>\n",
       "      <td>9.990000e+08</td>\n",
       "      <td>9.990000e+08</td>\n",
       "    </tr>\n",
       "    <tr>\n",
       "      <th>3</th>\n",
       "      <td>0000003.bin</td>\n",
       "      <td>2100003</td>\n",
       "      <td>0</td>\n",
       "      <td>5</td>\n",
       "      <td>2</td>\n",
       "      <td>0.023511</td>\n",
       "      <td>0.713415</td>\n",
       "      <td>0.102200</td>\n",
       "      <td>2.287671e+06</td>\n",
       "      <td>8.392234e+06</td>\n",
       "    </tr>\n",
       "    <tr>\n",
       "      <th>4</th>\n",
       "      <td>0000004.bin</td>\n",
       "      <td>700004</td>\n",
       "      <td>0</td>\n",
       "      <td>12</td>\n",
       "      <td>1</td>\n",
       "      <td>0.017473</td>\n",
       "      <td>0.003612</td>\n",
       "      <td>0.039803</td>\n",
       "      <td>9.668931e+05</td>\n",
       "      <td>3.380350e+05</td>\n",
       "    </tr>\n",
       "  </tbody>\n",
       "</table>\n",
       "</div>"
      ],
      "text/plain": [
       "     runstring     seed  pairindex   j  k     Zstar    libfac      Zcom  \\\n",
       "0  0000000.bin  3500000          1  12  1  0.021650  0.007181  0.041669   \n",
       "1  0000001.bin   700001          1  19  2  0.060291  0.523204  0.010656   \n",
       "2  0000002.bin        2          0   6  1  0.026353  0.012995  0.050319   \n",
       "3  0000003.bin  2100003          0   5  2  0.023511  0.713415  0.102200   \n",
       "4  0000004.bin   700004          0  12  1  0.017473  0.003612  0.039803   \n",
       "\n",
       "   instability_time  shadow_instability_time  \n",
       "0      1.545872e+06             3.063700e+06  \n",
       "1      9.990000e+08             9.990000e+08  \n",
       "2      9.990000e+08             9.990000e+08  \n",
       "3      2.287671e+06             8.392234e+06  \n",
       "4      9.668931e+05             3.380350e+05  "
      ]
     },
     "execution_count": 5,
     "metadata": {},
     "output_type": "execute_result"
    }
   ],
   "source": [
    "del df['Unnamed: 0']\n",
    "df.head()"
   ]
  },
  {
   "cell_type": "code",
   "execution_count": 19,
   "metadata": {
    "collapsed": true
   },
   "outputs": [],
   "source": [
    "mask = df['instability_time'] != df['instability_time'] "
   ]
  },
  {
   "cell_type": "code",
   "execution_count": 20,
   "metadata": {},
   "outputs": [
    {
     "data": {
      "text/html": [
       "<div>\n",
       "<table border=\"1\" class=\"dataframe\">\n",
       "  <thead>\n",
       "    <tr style=\"text-align: right;\">\n",
       "      <th></th>\n",
       "      <th>runstring</th>\n",
       "      <th>seed</th>\n",
       "      <th>pairindex</th>\n",
       "      <th>j</th>\n",
       "      <th>k</th>\n",
       "      <th>Zstar</th>\n",
       "      <th>libfac</th>\n",
       "      <th>Zcom</th>\n",
       "      <th>instability_time</th>\n",
       "    </tr>\n",
       "  </thead>\n",
       "  <tbody>\n",
       "    <tr>\n",
       "      <th>2058</th>\n",
       "      <td>0002058.bin</td>\n",
       "      <td>0</td>\n",
       "      <td>0</td>\n",
       "      <td>0</td>\n",
       "      <td>0</td>\n",
       "      <td>0.0</td>\n",
       "      <td>0.0</td>\n",
       "      <td>0.0</td>\n",
       "      <td>NaN</td>\n",
       "    </tr>\n",
       "  </tbody>\n",
       "</table>\n",
       "</div>"
      ],
      "text/plain": [
       "        runstring  seed  pairindex  j  k  Zstar  libfac  Zcom  \\\n",
       "2058  0002058.bin     0          0  0  0    0.0     0.0   0.0   \n",
       "\n",
       "      instability_time  \n",
       "2058               NaN  "
      ]
     },
     "execution_count": 20,
     "metadata": {},
     "output_type": "execute_result"
    }
   ],
   "source": [
    "df[mask]"
   ]
  },
  {
   "cell_type": "code",
   "execution_count": 21,
   "metadata": {},
   "outputs": [
    {
     "ename": "ValueError",
     "evalue": "('Cannot read binary file. Check filename and file contents.', 1)",
     "output_type": "error",
     "traceback": [
      "\u001b[1;31m---------------------------------------------------------------------------\u001b[0m",
      "\u001b[1;31mValueError\u001b[0m                                Traceback (most recent call last)",
      "\u001b[1;32m<ipython-input-21-59f1fbae3411>\u001b[0m in \u001b[0;36m<module>\u001b[1;34m()\u001b[0m\n\u001b[1;32m----> 1\u001b[1;33m \u001b[0msa\u001b[0m \u001b[1;33m=\u001b[0m \u001b[0mrebound\u001b[0m\u001b[1;33m.\u001b[0m\u001b[0mSimulationArchive\u001b[0m\u001b[1;33m(\u001b[0m\u001b[1;34m'../data/resonant/simulation_archives/runs/sa0002058.bin'\u001b[0m\u001b[1;33m)\u001b[0m\u001b[1;33m\u001b[0m\u001b[0m\n\u001b[0m",
      "\u001b[1;32m/mnt/raid-cita/dtamayo/rebound/rebound/simulationarchive.py\u001b[0m in \u001b[0;36m__init__\u001b[1;34m(self, filename, setup, setup_args, rebxfilename)\u001b[0m\n\u001b[0;32m     78\u001b[0m         \u001b[0mclibrebound\u001b[0m\u001b[1;33m.\u001b[0m\u001b[0mreb_read_simulationarchive_with_messages\u001b[0m\u001b[1;33m(\u001b[0m\u001b[0mbyref\u001b[0m\u001b[1;33m(\u001b[0m\u001b[0mself\u001b[0m\u001b[1;33m)\u001b[0m\u001b[1;33m,\u001b[0m\u001b[0mc_char_p\u001b[0m\u001b[1;33m(\u001b[0m\u001b[0mfilename\u001b[0m\u001b[1;33m.\u001b[0m\u001b[0mencode\u001b[0m\u001b[1;33m(\u001b[0m\u001b[1;34m\"ascii\"\u001b[0m\u001b[1;33m)\u001b[0m\u001b[1;33m)\u001b[0m\u001b[1;33m,\u001b[0m\u001b[0mbyref\u001b[0m\u001b[1;33m(\u001b[0m\u001b[0mw\u001b[0m\u001b[1;33m)\u001b[0m\u001b[1;33m)\u001b[0m\u001b[1;33m\u001b[0m\u001b[0m\n\u001b[0;32m     79\u001b[0m         \u001b[1;32mif\u001b[0m \u001b[0mw\u001b[0m\u001b[1;33m.\u001b[0m\u001b[0mvalue\u001b[0m \u001b[1;33m&\u001b[0m \u001b[1;33m(\u001b[0m\u001b[1;36m1\u001b[0m\u001b[1;33m+\u001b[0m\u001b[1;36m16\u001b[0m\u001b[1;33m+\u001b[0m\u001b[1;36m32\u001b[0m\u001b[1;33m+\u001b[0m\u001b[1;36m64\u001b[0m\u001b[1;33m+\u001b[0m\u001b[1;36m256\u001b[0m\u001b[1;33m)\u001b[0m \u001b[1;33m:\u001b[0m     \u001b[1;31m# Major error\u001b[0m\u001b[1;33m\u001b[0m\u001b[0m\n\u001b[1;32m---> 80\u001b[1;33m             \u001b[1;32mraise\u001b[0m \u001b[0mValueError\u001b[0m\u001b[1;33m(\u001b[0m\u001b[0mBINARY_WARNINGS\u001b[0m\u001b[1;33m[\u001b[0m\u001b[1;36m0\u001b[0m\u001b[1;33m]\u001b[0m\u001b[1;33m)\u001b[0m\u001b[1;33m\u001b[0m\u001b[0m\n\u001b[0m\u001b[0;32m     81\u001b[0m         \u001b[1;32mfor\u001b[0m \u001b[0mmessage\u001b[0m\u001b[1;33m,\u001b[0m \u001b[0mvalue\u001b[0m \u001b[1;32min\u001b[0m \u001b[0mBINARY_WARNINGS\u001b[0m\u001b[1;33m:\u001b[0m  \u001b[1;31m# Just warnings\u001b[0m\u001b[1;33m\u001b[0m\u001b[0m\n\u001b[0;32m     82\u001b[0m             \u001b[1;32mif\u001b[0m \u001b[0mw\u001b[0m\u001b[1;33m.\u001b[0m\u001b[0mvalue\u001b[0m \u001b[1;33m&\u001b[0m \u001b[0mvalue\u001b[0m\u001b[1;33m:\u001b[0m\u001b[1;33m\u001b[0m\u001b[0m\n",
      "\u001b[1;31mValueError\u001b[0m: ('Cannot read binary file. Check filename and file contents.', 1)"
     ]
    }
   ],
   "source": [
    "sa = rebound.SimulationArchive('../data/resonant/simulation_archives/runs/sa0002058.bin')"
   ]
  },
  {
   "cell_type": "code",
   "execution_count": 1,
   "metadata": {},
   "outputs": [
    {
     "data": {
      "text/html": [
       "<div>\n",
       "<table border=\"1\" class=\"dataframe\">\n",
       "  <thead>\n",
       "    <tr style=\"text-align: right;\">\n",
       "      <th></th>\n",
       "      <th>runstring</th>\n",
       "      <th>seed</th>\n",
       "      <th>pairindex</th>\n",
       "      <th>j</th>\n",
       "      <th>k</th>\n",
       "      <th>Zstar</th>\n",
       "      <th>libfac</th>\n",
       "      <th>Zcom</th>\n",
       "      <th>instability_time</th>\n",
       "    </tr>\n",
       "  </thead>\n",
       "  <tbody>\n",
       "    <tr>\n",
       "      <th>0</th>\n",
       "      <td>0000000.bin</td>\n",
       "      <td>3500000</td>\n",
       "      <td>1</td>\n",
       "      <td>12</td>\n",
       "      <td>1</td>\n",
       "      <td>0.021650</td>\n",
       "      <td>0.007181</td>\n",
       "      <td>0.041669</td>\n",
       "      <td>1.545872e+06</td>\n",
       "    </tr>\n",
       "    <tr>\n",
       "      <th>1</th>\n",
       "      <td>0000001.bin</td>\n",
       "      <td>700001</td>\n",
       "      <td>1</td>\n",
       "      <td>19</td>\n",
       "      <td>2</td>\n",
       "      <td>0.060291</td>\n",
       "      <td>0.523204</td>\n",
       "      <td>0.010656</td>\n",
       "      <td>9.990000e+08</td>\n",
       "    </tr>\n",
       "    <tr>\n",
       "      <th>2</th>\n",
       "      <td>0000002.bin</td>\n",
       "      <td>2</td>\n",
       "      <td>0</td>\n",
       "      <td>6</td>\n",
       "      <td>1</td>\n",
       "      <td>0.026353</td>\n",
       "      <td>0.012995</td>\n",
       "      <td>0.050319</td>\n",
       "      <td>9.990000e+08</td>\n",
       "    </tr>\n",
       "    <tr>\n",
       "      <th>3</th>\n",
       "      <td>0000003.bin</td>\n",
       "      <td>2100003</td>\n",
       "      <td>0</td>\n",
       "      <td>5</td>\n",
       "      <td>2</td>\n",
       "      <td>0.023511</td>\n",
       "      <td>0.713415</td>\n",
       "      <td>0.102200</td>\n",
       "      <td>2.287671e+06</td>\n",
       "    </tr>\n",
       "    <tr>\n",
       "      <th>4</th>\n",
       "      <td>0000004.bin</td>\n",
       "      <td>700004</td>\n",
       "      <td>0</td>\n",
       "      <td>12</td>\n",
       "      <td>1</td>\n",
       "      <td>0.017473</td>\n",
       "      <td>0.003612</td>\n",
       "      <td>0.039803</td>\n",
       "      <td>9.668931e+05</td>\n",
       "    </tr>\n",
       "  </tbody>\n",
       "</table>\n",
       "</div>"
      ],
      "text/plain": [
       "     runstring     seed  pairindex   j  k     Zstar    libfac      Zcom  \\\n",
       "0  0000000.bin  3500000          1  12  1  0.021650  0.007181  0.041669   \n",
       "1  0000001.bin   700001          1  19  2  0.060291  0.523204  0.010656   \n",
       "2  0000002.bin        2          0   6  1  0.026353  0.012995  0.050319   \n",
       "3  0000003.bin  2100003          0   5  2  0.023511  0.713415  0.102200   \n",
       "4  0000004.bin   700004          0  12  1  0.017473  0.003612  0.039803   \n",
       "\n",
       "   instability_time  \n",
       "0      1.545872e+06  \n",
       "1      9.990000e+08  \n",
       "2      9.990000e+08  \n",
       "3      2.287671e+06  \n",
       "4      9.668931e+05  "
      ]
     },
     "execution_count": 1,
     "metadata": {},
     "output_type": "execute_result"
    }
   ],
   "source": [
    "import pandas as pd\n",
    "df = pd.read_csv('../data/csvs/data.csv', index_col=0)\n",
    "df.head()"
   ]
  },
  {
   "cell_type": "code",
   "execution_count": 163,
   "metadata": {},
   "outputs": [
    {
     "data": {
      "text/plain": [
       "<matplotlib.axes._subplots.AxesSubplot at 0x7f7b81848128>"
      ]
     },
     "execution_count": 163,
     "metadata": {},
     "output_type": "execute_result"
    },
    {
     "data": {
      "image/png": "[encoded data removed]",
      "text/plain": [
       "<Figure size 432x288 with 1 Axes>"
      ]
     },
     "metadata": {},
     "output_type": "display_data"
    }
   ],
   "source": [
    "np.log10(np.abs(df[mask]['libfac'])).hist()"
   ]
  },
  {
   "cell_type": "code",
   "execution_count": 167,
   "metadata": {},
   "outputs": [
    {
     "data": {
      "text/plain": [
       "<matplotlib.axes._subplots.AxesSubplot at 0x7f7b8171b710>"
      ]
     },
     "execution_count": 167,
     "metadata": {},
     "output_type": "execute_result"
    },
    {
     "data": {
      "image/png": "[encoded data removed]",
      "text/plain": [
       "<Figure size 432x288 with 1 Axes>"
      ]
     },
     "metadata": {},
     "output_type": "display_data"
    }
   ],
   "source": [
    "np.log10(np.abs(df[mask]['Zstar'])).hist()"
   ]
  },
  {
   "cell_type": "code",
   "execution_count": 168,
   "metadata": {},
   "outputs": [
    {
     "data": {
      "text/plain": [
       "<matplotlib.axes._subplots.AxesSubplot at 0x7f7b816ddb00>"
      ]
     },
     "execution_count": 168,
     "metadata": {},
     "output_type": "execute_result"
    },
    {
     "data": {
      "image/png": "[encoded data removed]",
      "text/plain": [
       "<Figure size 432x288 with 1 Axes>"
      ]
     },
     "metadata": {},
     "output_type": "display_data"
    }
   ],
   "source": [
    "np.log10(np.abs(df['Zstar'])).hist()"
   ]
  },
  {
   "cell_type": "code",
   "execution_count": 169,
   "metadata": {},
   "outputs": [
    {
     "data": {
      "text/plain": [
       "<matplotlib.axes._subplots.AxesSubplot at 0x7f7b8178fb38>"
      ]
     },
     "execution_count": 169,
     "metadata": {},
     "output_type": "execute_result"
    },
    {
     "data": {
      "image/png": "[encoded data removed]",
      "text/plain": [
       "<Figure size 432x288 with 1 Axes>"
      ]
     },
     "metadata": {},
     "output_type": "display_data"
    }
   ],
   "source": [
    "np.log10(np.abs(df['Zcom'])).hist()"
   ]
  },
  {
   "cell_type": "code",
   "execution_count": 170,
   "metadata": {},
   "outputs": [
    {
     "data": {
      "text/plain": [
       "<matplotlib.axes._subplots.AxesSubplot at 0x7f7b8166ef60>"
      ]
     },
     "execution_count": 170,
     "metadata": {},
     "output_type": "execute_result"
    },
    {
     "data": {
      "image/png": "[encoded data removed]",
      "text/plain": [
       "<Figure size 432x288 with 1 Axes>"
      ]
     },
     "metadata": {},
     "output_type": "display_data"
    }
   ],
   "source": [
    "np.log10(np.abs(df[mask]['Zcom'])).hist()"
   ]
  },
  {
   "cell_type": "code",
   "execution_count": 183,
   "metadata": {},
   "outputs": [
    {
     "data": {
      "text/plain": [
       "<matplotlib.axes._subplots.AxesSubplot at 0x7f7b7f07ba58>"
      ]
     },
     "execution_count": 183,
     "metadata": {},
     "output_type": "execute_result"
    },
    {
     "data": {
      "image/png": "[encoded data removed]",
      "text/plain": [
       "<Figure size 432x288 with 1 Axes>"
      ]
     },
     "metadata": {},
     "output_type": "display_data"
    }
   ],
   "source": [
    "(df[mask]['j']/(df[mask]['j'] - df[mask]['k'])).hist(bins=100)"
   ]
  },
  {
   "cell_type": "code",
   "execution_count": 162,
   "metadata": {},
   "outputs": [
    {
     "data": {
      "text/plain": [
       "1      0.523204\n",
       "2      0.012995\n",
       "12    -2.930812\n",
       "17    -0.015524\n",
       "21     0.662838\n",
       "32     0.434353\n",
       "40    -1.424688\n",
       "45     0.028912\n",
       "56     0.054805\n",
       "57    -0.214224\n",
       "64    -0.019672\n",
       "72    -0.745431\n",
       "74     2.879162\n",
       "76    -1.007792\n",
       "78    -0.301565\n",
       "79     0.091312\n",
       "82     0.583487\n",
       "85     1.224203\n",
       "86    -0.018586\n",
       "87     1.780927\n",
       "90     0.096559\n",
       "98     0.017302\n",
       "104   -2.498495\n",
       "105    0.412323\n",
       "107   -0.007440\n",
       "120   -0.073198\n",
       "123    0.029144\n",
       "129   -0.039922\n",
       "135   -0.344473\n",
       "138    0.019330\n",
       "139    0.142044\n",
       "144   -0.005540\n",
       "147   -0.065287\n",
       "148    0.208661\n",
       "151   -0.340097\n",
       "152    1.539247\n",
       "154   -0.018045\n",
       "156    2.244993\n",
       "158    0.072960\n",
       "160   -1.674262\n",
       "164   -0.012184\n",
       "173   -0.234517\n",
       "174   -0.015950\n",
       "180    0.066977\n",
       "181    0.546857\n",
       "183    0.014708\n",
       "184   -0.004967\n",
       "186    0.037042\n",
       "189   -0.006528\n",
       "190   -1.937171\n",
       "193   -0.167760\n",
       "196   -0.012160\n",
       "Name: libfac, dtype: float64"
      ]
     },
     "execution_count": 162,
     "metadata": {},
     "output_type": "execute_result"
    }
   ],
   "source": [
    "df[mask]['libfac']"
   ]
  },
  {
   "cell_type": "code",
   "execution_count": null,
   "metadata": {
    "collapsed": true
   },
   "outputs": [],
   "source": []
  }
 ],
 "metadata": {
  "kernelspec": {
   "display_name": "Python 3",
   "language": "python",
   "name": "python3"
  },
  "language_info": {
   "codemirror_mode": {
    "name": "ipython",
    "version": 3
   },
   "file_extension": ".py",
   "mimetype": "text/x-python",
   "name": "python",
   "nbconvert_exporter": "python",
   "pygments_lexer": "ipython3",
   "version": "3.7.0"
  }
 },
 "nbformat": 4,
 "nbformat_minor": 2
}
