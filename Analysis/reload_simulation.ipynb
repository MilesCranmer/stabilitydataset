{
 "cells": [
  {
   "cell_type": "code",
   "execution_count": 1,
   "metadata": {
    "collapsed": true
   },
   "outputs": [],
   "source": [
    "import rebound\n",
    "simID = 3\n",
    "runstr = \"{0:0=7d}.bin\".format(simID)\n",
    "sa = rebound.SimulationArchive('../data/random/simulation_archives/runs/sa'+runstr)"
   ]
  },
  {
   "cell_type": "code",
   "execution_count": 2,
   "metadata": {},
   "outputs": [
    {
     "data": {
      "text/plain": [
       "161"
      ]
     },
     "execution_count": 2,
     "metadata": {},
     "output_type": "execute_result"
    }
   ],
   "source": [
    "sa.Nblob"
   ]
  },
  {
   "cell_type": "code",
   "execution_count": 3,
   "metadata": {},
   "outputs": [
    {
     "name": "stdout",
     "output_type": "stream",
     "text": [
      "---------------------------------\n",
      "REBOUND version:     \t3.4.0\n",
      "REBOUND built on:    \tApr 19 2017 17:11:42\n",
      "Number of particles: \t4\n",
      "Selected integrator: \twhfast\n",
      "Simulation time:     \t7.0000000131308446e+06\n",
      "Current timestep:    \t0.034641\n",
      "---------------------------------\n",
      "<rebound.Particle object, m=1.0 x=-3.216619967359329e-06 y=5.6779406610266835e-06 z=-3.6247319864982237e-08 vx=-2.755106109019188e-05 vy=-1.3493494664483916e-05 vz=-4.184009822946544e-07>\n",
      "<rebound.Particle object, m=5.174803715214938e-07 x=0.2601404182962801 y=-0.9341625429655472 z=0.06486436751095938 vx=6.192946162142889 vy=1.822270148768214 vz=0.30228205049753987>\n",
      "<rebound.Particle object, m=4.292276354690093e-06 x=0.27427868374003556 y=-1.1695124927154124 z=0.03164765292270299 vx=5.600537910961266 vy=1.3732251268100175 vz=0.07610224793330536>\n",
      "<rebound.Particle object, m=1.2878506444947535e-06 x=1.4789933091406982 y=-0.13562058844400895 z=-0.10339645363682158 vx=0.2385964257133496 vy=5.168490552742032 vz=-0.05022005084242875>\n",
      "---------------------------------\n"
     ]
    }
   ],
   "source": [
    "blob = 6\n",
    "tmax = sa[blob+1].t\n",
    "sim = sa[blob]\n",
    "sim.integrate(tmax)\n",
    "sim.status()"
   ]
  },
  {
   "cell_type": "code",
   "execution_count": 4,
   "metadata": {},
   "outputs": [
    {
     "name": "stdout",
     "output_type": "stream",
     "text": [
      "---------------------------------\n",
      "REBOUND version:     \t3.4.0\n",
      "REBOUND built on:    \tApr 19 2017 17:11:42\n",
      "Number of particles: \t4\n",
      "Selected integrator: \twhfast\n",
      "Simulation time:     \t7.0000000131308446e+06\n",
      "Current timestep:    \t0.034641\n",
      "---------------------------------\n",
      "<rebound.Particle object, m=1.0 x=-3.216619976736052e-06 y=5.677940656434308e-06 z=-3.624732000738074e-08 vx=-2.755106107135023e-05 vy=-1.3493494711140486e-05 vz=-4.184009812937015e-07>\n",
      "<rebound.Particle object, m=5.174803715214938e-07 x=0.26014042040398366 y=-0.9341625423453437 z=0.06486436761383915 vx=6.192946158335333 vy=1.822270162440393 vz=0.3022820495480465>\n",
      "<rebound.Particle object, m=4.292276354690093e-06 x=0.2742786856461219 y=-1.1695124922480507 z=0.031647652948603465 vx=5.600537908837456 vy=1.3732251358658965 vz=0.07610224768826415>\n",
      "<rebound.Particle object, m=1.2878506444947535e-06 x=1.478993309221902 y=-0.13562058668496577 z=-0.10339645365391345 vx=0.23859641969142423 vy=5.168490553294233 vz=-0.05022005042143594>\n",
      "---------------------------------\n"
     ]
    }
   ],
   "source": [
    "sa[blob+1].status()"
   ]
  },
  {
   "cell_type": "code",
   "execution_count": null,
   "metadata": {},
   "outputs": [
    {
     "name": "stderr",
     "output_type": "stream",
     "text": [
      "/mnt/raid-cita/dtamayo/stability/lib/python3.4/site-packages/rebound/simulation.py:374: RuntimeWarning: You have to reset function pointers after creating a reb_simulation struct with a binary file.\n",
      "  warnings.warn(message, RuntimeWarning)\n"
     ]
    },
    {
     "name": "stdout",
     "output_type": "stream",
     "text": [
      "105.72425182482236 105.72425182482236\n",
      "12763.80811804577 9321.518810854792\n",
      "0.8313841886164649 0.8313841886164649\n",
      "521.1392029631098 321.0527873612446\n",
      "134874.88323432917 213307.15687971358\n",
      "87.91887654323433 87.91887654323433\n"
     ]
    }
   ],
   "source": [
    "import os\n",
    "datapath = '../data/random/final_conditions/runs/'\n",
    "shadowdatapath = '../data/random/final_conditions/shadowruns/'\n",
    "for filename in os.listdir(datapath):\n",
    "    sim = rebound.Simulation.from_file(datapath+filename)\n",
    "    shadow = rebound.Simulation.from_file(shadowdatapath+filename)\n",
    "    print(sim.t, shadow.t)"
   ]
  },
  {
   "cell_type": "code",
   "execution_count": 10,
   "metadata": {},
   "outputs": [
    {
     "data": {
      "text/plain": [
       "161000000.03218392"
      ]
     },
     "execution_count": 10,
     "metadata": {},
     "output_type": "execute_result"
    }
   ],
   "source": [
    "sa[-1].t"
   ]
  },
  {
   "cell_type": "code",
   "execution_count": 3,
   "metadata": {},
   "outputs": [
    {
     "name": "stderr",
     "output_type": "stream",
     "text": [
      "/mnt/raid-cita/dtamayo/stability/lib/python3.4/site-packages/rebound/simulation.py:374: RuntimeWarning: You have to reset function pointers after creating a reb_simulation struct with a binary file.\n",
      "  warnings.warn(message, RuntimeWarning)\n"
     ]
    },
    {
     "name": "stdout",
     "output_type": "stream",
     "text": [
      "CPU times: user 380 ms, sys: 1.83 s, total: 2.21 s\n",
      "Wall time: 41.7 s\n"
     ]
    }
   ],
   "source": [
    "%%time \n",
    "import os\n",
    "import rebound\n",
    "\n",
    "simidmax = 1230\n",
    "\n",
    "datapath = '../data/random/final_conditions/runs/fc'\n",
    "shadowdatapath = '../data/random/final_conditions/shadowruns/fc'\n",
    "for i in range(simidmax):\n",
    "    runstr = \"{0:0=7d}.bin\".format(i)\n",
    "    try:\n",
    "        sim = rebound.Simulation.from_file(datapath+runstr)\n",
    "    except:\n",
    "        print(runstr + \" did not finish\")\n",
    "    try:\n",
    "        shadow = rebound.Simulation.from_file(shadowdatapath+runstr)\n",
    "    except:\n",
    "        print(runstr + \" did not finish\")"
   ]
  },
  {
   "cell_type": "code",
   "execution_count": 14,
   "metadata": {},
   "outputs": [
    {
     "data": {
      "text/plain": [
       "960000000.0074857"
      ]
     },
     "execution_count": 14,
     "metadata": {},
     "output_type": "execute_result"
    }
   ],
   "source": [
    "simID = 1233\n",
    "datapath = '../data/random/simulation_archives/shadowruns/sa'\n",
    "runstr = \"{0:0=7d}.bin\".format(simID)\n",
    "sa = rebound.SimulationArchive(datapath+runstr)\n",
    "sa[-1].t"
   ]
  },
  {
   "cell_type": "code",
   "execution_count": 8,
   "metadata": {},
   "outputs": [
    {
     "data": {
      "text/plain": [
       "954000000.0165266"
      ]
     },
     "execution_count": 8,
     "metadata": {},
     "output_type": "execute_result"
    }
   ],
   "source": []
  },
  {
   "cell_type": "code",
   "execution_count": null,
   "metadata": {
    "collapsed": true
   },
   "outputs": [],
   "source": []
  }
 ],
 "metadata": {
  "kernelspec": {
   "display_name": "Python 3",
   "language": "python",
   "name": "python3"
  },
  "language_info": {
   "codemirror_mode": {
    "name": "ipython",
    "version": 3
   },
   "file_extension": ".py",
   "mimetype": "text/x-python",
   "name": "python",
   "nbconvert_exporter": "python",
   "pygments_lexer": "ipython3",
   "version": "3.4.3"
  }
 },
 "nbformat": 4,
 "nbformat_minor": 2
}
